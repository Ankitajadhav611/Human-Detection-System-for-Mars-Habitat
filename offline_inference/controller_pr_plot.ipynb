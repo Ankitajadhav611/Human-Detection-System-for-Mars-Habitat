{
  "cells": [
    {
      "cell_type": "code",
      "execution_count": 1,
      "metadata": {
        "id": "Qg-1qo_qcxvU"
      },
      "outputs": [],
      "source": [
        "#libraries\n",
        "import os\n",
        "import cv2\n",
        "import numpy as np"
      ]
    },
    {
      "cell_type": "code",
      "execution_count": 2,
      "metadata": {
        "id": "Gn8FIcWJc0RN"
      },
      "outputs": [],
      "source": [
        "import pandas as pd"
      ]
    },
    {
      "cell_type": "code",
      "execution_count": 3,
      "metadata": {
        "id": "qCit6Bhbc2qY"
      },
      "outputs": [],
      "source": [
        "# Function to draw a box around a centroid on an image and return the coordinates\n",
        "def bonding_box(centroid):\n",
        "    # Calculate the top-left and bottom-right coordinates of the box\n",
        "    # top_left = (int(centroid[0] - box_size[0] / 2), int(centroid[1] - box_size[1] / 2))\n",
        "    # bottom_right = (int(centroid[0] + box_size[0] / 2), int(centroid[1] + box_size[1] / 2))\n",
        "    top_left = [int(centroid[0]) - 18, int(centroid[1])-35]\n",
        "    bottom_right = [int(centroid[0] + 18), int(centroid[1] + 45)]\n",
        "    if bottom_right[0] > 95:\n",
        "        bottom_right[0]=95\n",
        "    if bottom_right[1] > 95:\n",
        "        bottom_right[1]=95\n",
        "    if top_left[0] <0:\n",
        "        top_left[0] = 0\n",
        "    if top_left[1]<0 :\n",
        "       top_left[1] = 0\n",
        "    return top_left, bottom_right"
      ]
    },
    {
      "cell_type": "code",
      "source": [
        "# def bonding_box(centroid):\n",
        "#     # Calculate the top-left and bottom-right coordinates of the box\n",
        "#     # top_left = (int(centroid[0] - box_size[0] / 2), int(centroid[1] - box_size[1] / 2))\n",
        "#     # bottom_right = (int(centroid[0] + box_size[0] / 2), int(centroid[1] + box_size[1] / 2))\n",
        "#     top_left = [int(centroid[0]) - 20, int(centroid[1])-55]\n",
        "#     bottom_right = [int(centroid[0] + 20), int(centroid[1] + 55)]\n",
        "#     if bottom_right[0] > 120:\n",
        "#         bottom_right[0]=120\n",
        "#     if bottom_right[1] > 120:\n",
        "#         bottom_right[1]=120\n",
        "#     if top_left[0] <0:\n",
        "#         top_left[0] = 0\n",
        "#     if top_left[1]<0 :\n",
        "#        top_left[1] = 0\n",
        "#     return top_left, bottom_right"
      ],
      "metadata": {
        "id": "Ng1sxdH_7HXF"
      },
      "execution_count": 4,
      "outputs": []
    },
    {
      "cell_type": "code",
      "source": [
        "# def bonding_box(centroid):\n",
        "#     # Calculate the top-left and bottom-right coordinates of the box\n",
        "#     # top_left = (int(centroid[0] - box_size[0] / 2), int(centroid[1] - box_size[1] / 2))\n",
        "#     # bottom_right = (int(centroid[0] + box_size[0] / 2), int(centroid[1] + box_size[1] / 2))\n",
        "#     top_left = [int(centroid[0]) - 20, int(centroid[1])-75]\n",
        "#     bottom_right = [int(centroid[0] + 20), int(centroid[1] + 75)]\n",
        "#     if bottom_right[0] > 160:\n",
        "#         bottom_right[0]=160\n",
        "#     if bottom_right[1] > 160:\n",
        "#         bottom_right[1]=160\n",
        "#     if top_left[0] <0:\n",
        "#         top_left[0] = 0\n",
        "#     if top_left[1]<0 :\n",
        "#        top_left[1] = 0\n",
        "#     return top_left, bottom_right"
      ],
      "metadata": {
        "id": "hdBxPwa_f-ku"
      },
      "execution_count": 5,
      "outputs": []
    },
    {
      "cell_type": "code",
      "execution_count": 6,
      "metadata": {
        "id": "5PEUnHWac5Ou"
      },
      "outputs": [],
      "source": [
        "df = pd.read_excel(\"/content/ondevice_normal.xlsx\")"
      ]
    },
    {
      "cell_type": "code",
      "execution_count": 7,
      "metadata": {
        "id": "6-FoZdPWqZ2t"
      },
      "outputs": [],
      "source": [
        "df['confidence_score'] = df['confidence_score'].fillna(0)"
      ]
    },
    {
      "cell_type": "code",
      "execution_count": 8,
      "metadata": {
        "id": "5A1cXjqsdBgS"
      },
      "outputs": [],
      "source": [
        "df = df.fillna(\"[0,0]\")"
      ]
    },
    {
      "cell_type": "code",
      "execution_count": 9,
      "metadata": {
        "id": "DD-xt9tIdEXk"
      },
      "outputs": [],
      "source": [
        "import ast"
      ]
    },
    {
      "cell_type": "code",
      "execution_count": 10,
      "metadata": {
        "id": "nixIfQFZdGiX"
      },
      "outputs": [],
      "source": [
        "df[\"p_centriod\"] = df[\"p_centriod\"].apply(ast.literal_eval)"
      ]
    },
    {
      "cell_type": "code",
      "execution_count": 11,
      "metadata": {
        "id": "8X0lh155dJVH"
      },
      "outputs": [],
      "source": [
        "p_left_top = []\n",
        "p_right_bottom = []"
      ]
    },
    {
      "cell_type": "code",
      "execution_count": 12,
      "metadata": {
        "id": "xJJ6X0m9dLvQ"
      },
      "outputs": [],
      "source": [
        "for index, row in df.iterrows():\n",
        "  if(row[\"p_human\"]==1):\n",
        "    # print(row[\"p_centriod\"])\n",
        "    top_left, bottom_right = bonding_box(row[\"p_centriod\"])\n",
        "    p_right_bottom.append(bottom_right)\n",
        "    p_left_top.append(top_left)\n",
        "  else:\n",
        "    p_right_bottom.append([0,0])\n",
        "    p_left_top.append([0,0])"
      ]
    },
    {
      "cell_type": "code",
      "execution_count": 13,
      "metadata": {
        "id": "waRYswsDdOZr"
      },
      "outputs": [],
      "source": [
        "df[\"p_left_top\"] = p_left_top\n",
        "df[\"p_right_bottom\"] = p_right_bottom"
      ]
    },
    {
      "cell_type": "code",
      "execution_count": 14,
      "metadata": {
        "id": "-C8I8R6JdRCP"
      },
      "outputs": [],
      "source": [
        "df[\"g_left_top\"] = df[\"g_left_top\"].apply(ast.literal_eval)\n",
        "df[\"g_right_bottom\"] = df[\"g_right_bottom\"].apply(ast.literal_eval)"
      ]
    },
    {
      "cell_type": "code",
      "execution_count": 15,
      "metadata": {
        "colab": {
          "base_uri": "https://localhost:8080/"
        },
        "id": "0qHKAaqkdToV",
        "outputId": "1367a485-171a-4bcc-b8a7-12bd07ac79ed"
      },
      "outputs": [
        {
          "output_type": "stream",
          "name": "stdout",
          "text": [
            "Collecting torchmetrics\n",
            "  Downloading torchmetrics-1.3.2-py3-none-any.whl (841 kB)\n",
            "\u001b[2K     \u001b[90m━━━━━━━━━━━━━━━━━━━━━━━━━━━━━━━━━━━━━━━━\u001b[0m \u001b[32m841.5/841.5 kB\u001b[0m \u001b[31m5.8 MB/s\u001b[0m eta \u001b[36m0:00:00\u001b[0m\n",
            "\u001b[?25hRequirement already satisfied: numpy>1.20.0 in /usr/local/lib/python3.10/dist-packages (from torchmetrics) (1.25.2)\n",
            "Requirement already satisfied: packaging>17.1 in /usr/local/lib/python3.10/dist-packages (from torchmetrics) (24.0)\n",
            "Requirement already satisfied: torch>=1.10.0 in /usr/local/lib/python3.10/dist-packages (from torchmetrics) (2.2.1+cu121)\n",
            "Collecting lightning-utilities>=0.8.0 (from torchmetrics)\n",
            "  Downloading lightning_utilities-0.11.2-py3-none-any.whl (26 kB)\n",
            "Requirement already satisfied: setuptools in /usr/local/lib/python3.10/dist-packages (from lightning-utilities>=0.8.0->torchmetrics) (67.7.2)\n",
            "Requirement already satisfied: typing-extensions in /usr/local/lib/python3.10/dist-packages (from lightning-utilities>=0.8.0->torchmetrics) (4.11.0)\n",
            "Requirement already satisfied: filelock in /usr/local/lib/python3.10/dist-packages (from torch>=1.10.0->torchmetrics) (3.13.4)\n",
            "Requirement already satisfied: sympy in /usr/local/lib/python3.10/dist-packages (from torch>=1.10.0->torchmetrics) (1.12)\n",
            "Requirement already satisfied: networkx in /usr/local/lib/python3.10/dist-packages (from torch>=1.10.0->torchmetrics) (3.3)\n",
            "Requirement already satisfied: jinja2 in /usr/local/lib/python3.10/dist-packages (from torch>=1.10.0->torchmetrics) (3.1.3)\n",
            "Requirement already satisfied: fsspec in /usr/local/lib/python3.10/dist-packages (from torch>=1.10.0->torchmetrics) (2023.6.0)\n",
            "Collecting nvidia-cuda-nvrtc-cu12==12.1.105 (from torch>=1.10.0->torchmetrics)\n",
            "  Using cached nvidia_cuda_nvrtc_cu12-12.1.105-py3-none-manylinux1_x86_64.whl (23.7 MB)\n",
            "Collecting nvidia-cuda-runtime-cu12==12.1.105 (from torch>=1.10.0->torchmetrics)\n",
            "  Using cached nvidia_cuda_runtime_cu12-12.1.105-py3-none-manylinux1_x86_64.whl (823 kB)\n",
            "Collecting nvidia-cuda-cupti-cu12==12.1.105 (from torch>=1.10.0->torchmetrics)\n",
            "  Using cached nvidia_cuda_cupti_cu12-12.1.105-py3-none-manylinux1_x86_64.whl (14.1 MB)\n",
            "Collecting nvidia-cudnn-cu12==8.9.2.26 (from torch>=1.10.0->torchmetrics)\n",
            "  Using cached nvidia_cudnn_cu12-8.9.2.26-py3-none-manylinux1_x86_64.whl (731.7 MB)\n",
            "Collecting nvidia-cublas-cu12==12.1.3.1 (from torch>=1.10.0->torchmetrics)\n",
            "  Using cached nvidia_cublas_cu12-12.1.3.1-py3-none-manylinux1_x86_64.whl (410.6 MB)\n",
            "Collecting nvidia-cufft-cu12==11.0.2.54 (from torch>=1.10.0->torchmetrics)\n",
            "  Using cached nvidia_cufft_cu12-11.0.2.54-py3-none-manylinux1_x86_64.whl (121.6 MB)\n",
            "Collecting nvidia-curand-cu12==10.3.2.106 (from torch>=1.10.0->torchmetrics)\n",
            "  Using cached nvidia_curand_cu12-10.3.2.106-py3-none-manylinux1_x86_64.whl (56.5 MB)\n",
            "Collecting nvidia-cusolver-cu12==11.4.5.107 (from torch>=1.10.0->torchmetrics)\n",
            "  Using cached nvidia_cusolver_cu12-11.4.5.107-py3-none-manylinux1_x86_64.whl (124.2 MB)\n",
            "Collecting nvidia-cusparse-cu12==12.1.0.106 (from torch>=1.10.0->torchmetrics)\n",
            "  Using cached nvidia_cusparse_cu12-12.1.0.106-py3-none-manylinux1_x86_64.whl (196.0 MB)\n",
            "Collecting nvidia-nccl-cu12==2.19.3 (from torch>=1.10.0->torchmetrics)\n",
            "  Using cached nvidia_nccl_cu12-2.19.3-py3-none-manylinux1_x86_64.whl (166.0 MB)\n",
            "Collecting nvidia-nvtx-cu12==12.1.105 (from torch>=1.10.0->torchmetrics)\n",
            "  Using cached nvidia_nvtx_cu12-12.1.105-py3-none-manylinux1_x86_64.whl (99 kB)\n",
            "Requirement already satisfied: triton==2.2.0 in /usr/local/lib/python3.10/dist-packages (from torch>=1.10.0->torchmetrics) (2.2.0)\n",
            "Collecting nvidia-nvjitlink-cu12 (from nvidia-cusolver-cu12==11.4.5.107->torch>=1.10.0->torchmetrics)\n",
            "  Using cached nvidia_nvjitlink_cu12-12.4.127-py3-none-manylinux2014_x86_64.whl (21.1 MB)\n",
            "Requirement already satisfied: MarkupSafe>=2.0 in /usr/local/lib/python3.10/dist-packages (from jinja2->torch>=1.10.0->torchmetrics) (2.1.5)\n",
            "Requirement already satisfied: mpmath>=0.19 in /usr/local/lib/python3.10/dist-packages (from sympy->torch>=1.10.0->torchmetrics) (1.3.0)\n",
            "Installing collected packages: nvidia-nvtx-cu12, nvidia-nvjitlink-cu12, nvidia-nccl-cu12, nvidia-curand-cu12, nvidia-cufft-cu12, nvidia-cuda-runtime-cu12, nvidia-cuda-nvrtc-cu12, nvidia-cuda-cupti-cu12, nvidia-cublas-cu12, lightning-utilities, nvidia-cusparse-cu12, nvidia-cudnn-cu12, nvidia-cusolver-cu12, torchmetrics\n",
            "Successfully installed lightning-utilities-0.11.2 nvidia-cublas-cu12-12.1.3.1 nvidia-cuda-cupti-cu12-12.1.105 nvidia-cuda-nvrtc-cu12-12.1.105 nvidia-cuda-runtime-cu12-12.1.105 nvidia-cudnn-cu12-8.9.2.26 nvidia-cufft-cu12-11.0.2.54 nvidia-curand-cu12-10.3.2.106 nvidia-cusolver-cu12-11.4.5.107 nvidia-cusparse-cu12-12.1.0.106 nvidia-nccl-cu12-2.19.3 nvidia-nvjitlink-cu12-12.4.127 nvidia-nvtx-cu12-12.1.105 torchmetrics-1.3.2\n"
          ]
        }
      ],
      "source": [
        "pip install torchmetrics"
      ]
    },
    {
      "cell_type": "code",
      "execution_count": 16,
      "metadata": {
        "id": "AHy-AK_7dVtQ"
      },
      "outputs": [],
      "source": [
        "import torch\n",
        "from torchmetrics.detection import IntersectionOverUnion"
      ]
    },
    {
      "cell_type": "code",
      "execution_count": 17,
      "metadata": {
        "id": "MZDVAW79dYjp"
      },
      "outputs": [],
      "source": [
        "iou = []"
      ]
    },
    {
      "cell_type": "code",
      "execution_count": 18,
      "metadata": {
        "id": "1j2tX7BIda3h"
      },
      "outputs": [],
      "source": [
        "for index, row in df.iterrows():\n",
        "  if(row[\"g_human\"]==1) & (row[\"p_human\"]==1):\n",
        "    preds = [\n",
        "    {\n",
        "        \"boxes\": torch.tensor([\n",
        "              [row[\"g_left_top\"][0] , row[\"g_left_top\"][1], row[\"g_right_bottom\"][0], row[\"g_right_bottom\"][1]]]),\n",
        "        \"labels\": torch.tensor([1]),\n",
        "    }\n",
        "    ]\n",
        "    target = [\n",
        "      {\n",
        "          \"boxes\": torch.tensor([ [row[\"p_left_top\"][0] , row[\"p_left_top\"][1], row[\"p_right_bottom\"][0], row[\"p_right_bottom\"][1]]]),\n",
        "          \"labels\": torch.tensor([1]),\n",
        "      }\n",
        "     ]\n",
        "    metric = IntersectionOverUnion()\n",
        "    iou_value = metric(preds, target)\n",
        "    iou.append(iou_value['iou'])\n",
        "  else:\n",
        "    iou.append(0)"
      ]
    },
    {
      "cell_type": "code",
      "execution_count": 19,
      "metadata": {
        "id": "levPsjkqddn6"
      },
      "outputs": [],
      "source": [
        "df['IOU'] = iou"
      ]
    },
    {
      "cell_type": "code",
      "execution_count": 20,
      "metadata": {
        "id": "wXbohan74XqF"
      },
      "outputs": [],
      "source": [
        "# df.to_csv(\"device_normal_casev89.csv\")"
      ]
    },
    {
      "cell_type": "code",
      "execution_count": 21,
      "metadata": {
        "id": "eB4SL3WzdgOu"
      },
      "outputs": [],
      "source": [
        "df_sorted = df.sort_values(by='confidence_score', ascending=False)"
      ]
    },
    {
      "cell_type": "code",
      "execution_count": 22,
      "metadata": {
        "id": "kMzOAG4odi-S"
      },
      "outputs": [],
      "source": [
        "preds =0\n",
        "golds = 0"
      ]
    },
    {
      "cell_type": "code",
      "execution_count": 23,
      "metadata": {
        "id": "fhzGCKaKdlYU"
      },
      "outputs": [],
      "source": [
        "preds = df_sorted[\"p_human\"].sum()\n",
        "golds = df_sorted[\"g_human\"].sum()"
      ]
    },
    {
      "cell_type": "code",
      "execution_count": 24,
      "metadata": {
        "id": "gLKrGxrFdn1V"
      },
      "outputs": [],
      "source": [
        "tps = []\n",
        "fps = []"
      ]
    },
    {
      "cell_type": "code",
      "execution_count": 25,
      "metadata": {
        "id": "w3R7AWeMdqDC"
      },
      "outputs": [],
      "source": [
        "for index, row in df_sorted.iterrows():\n",
        "    #print(row['ground_truth'], row['predicted'])\n",
        "    if (row['IOU']>0.1):\n",
        "      tps.append(1)\n",
        "      fps.append(0)\n",
        "    else:\n",
        "      tps.append(0)\n",
        "      fps.append(1)"
      ]
    },
    {
      "cell_type": "code",
      "execution_count": 26,
      "metadata": {
        "id": "vJhGN5Oudunk"
      },
      "outputs": [],
      "source": [
        "df_sorted[\"tps\"] = tps\n",
        "df_sorted[\"fps\"] = fps"
      ]
    },
    {
      "cell_type": "code",
      "execution_count": 27,
      "metadata": {
        "id": "IInbg4IldxjC"
      },
      "outputs": [],
      "source": [
        "cumulative_fps = df_sorted[\"fps\"].cumsum()\n",
        "cumulative_tps = df_sorted[\"tps\"].cumsum()"
      ]
    },
    {
      "cell_type": "code",
      "execution_count": 28,
      "metadata": {
        "id": "JgZl3iezdz0m"
      },
      "outputs": [],
      "source": [
        "recalls_01 = np.divide(cumulative_tps, golds)\n",
        "precisions_01 = np.divide(cumulative_tps, (cumulative_fps + cumulative_tps))"
      ]
    },
    {
      "cell_type": "code",
      "execution_count": 29,
      "metadata": {
        "id": "cD14iVWGd4Ls"
      },
      "outputs": [],
      "source": [
        "def compute_ap(recall, precision):\n",
        "    \"\"\" Compute the average precision, given the recall and precision curves.\n",
        "    Code originally from https://github.com/rbgirshick/py-faster-rcnn.\n",
        "\n",
        "    # Arguments\n",
        "        recall:    The recall curve (list).\n",
        "        precision: The precision curve (list).\n",
        "    # Returns\n",
        "        The average precision as computed in py-faster-rcnn.\n",
        "    \"\"\"\n",
        "    # correct AP calculation\n",
        "    # first append sentinel values at the end\n",
        "    mrec = np.concatenate(([0.0], recall, [1.0]))\n",
        "    mpre = np.concatenate(([0.0], precision, [0.0]))\n",
        "\n",
        "    # compute the precision envelope\n",
        "    for i in range(mpre.size - 1, 0, -1):\n",
        "        mpre[i - 1] = np.maximum(mpre[i - 1], mpre[i])\n",
        "\n",
        "    # to calculate area under PR curve, look for points\n",
        "    # where X axis (recall) changes value\n",
        "    i = np.where(mrec[1:] != mrec[:-1])[0]\n",
        "\n",
        "    # and sum (\\Delta recall) * prec\n",
        "    ap = np.sum((mrec[i + 1] - mrec[i]) * mpre[i + 1])\n",
        "    return ap"
      ]
    },
    {
      "cell_type": "code",
      "execution_count": 30,
      "metadata": {
        "id": "b2f96arGd7f3"
      },
      "outputs": [],
      "source": [
        "decreasing_max_precision_01 = np.maximum.accumulate(precisions_01[::-1])[::-1]"
      ]
    },
    {
      "cell_type": "code",
      "execution_count": 31,
      "metadata": {
        "id": "hzFsi7U7d_j4"
      },
      "outputs": [],
      "source": [
        "ap01 = compute_ap(recalls_01, decreasing_max_precision_01)"
      ]
    },
    {
      "cell_type": "code",
      "execution_count": 32,
      "metadata": {
        "id": "ptMANJM5eQUY"
      },
      "outputs": [],
      "source": [
        "tps_025 = []\n",
        "fps_025 = []"
      ]
    },
    {
      "cell_type": "code",
      "execution_count": 33,
      "metadata": {
        "id": "_A4QV7vCeXJe"
      },
      "outputs": [],
      "source": [
        "for index, row in df_sorted.iterrows():\n",
        "    #print(row['ground_truth'], row['predicted'])\n",
        "    if (row['IOU']>0.25):\n",
        "      tps_025.append(1)\n",
        "      fps_025.append(0)\n",
        "    else:\n",
        "      tps_025.append(0)\n",
        "      fps_025.append(1)"
      ]
    },
    {
      "cell_type": "code",
      "execution_count": 34,
      "metadata": {
        "id": "jYyUHDtfegAy"
      },
      "outputs": [],
      "source": [
        "df_sorted[\"tps_025\"] = tps_025\n",
        "df_sorted[\"fps_025\"] = fps_025"
      ]
    },
    {
      "cell_type": "code",
      "execution_count": 35,
      "metadata": {
        "id": "lHS11YHQenIn"
      },
      "outputs": [],
      "source": [
        "cumulative_fps_025 = df_sorted[\"fps_025\"].cumsum()\n",
        "cumulative_tps_025 = df_sorted[\"tps_025\"].cumsum()"
      ]
    },
    {
      "cell_type": "code",
      "execution_count": 36,
      "metadata": {
        "id": "dvbrsTiFeybl"
      },
      "outputs": [],
      "source": [
        "recalls_025 = np.divide(cumulative_tps_025, golds)\n",
        "precisions_025 = np.divide(cumulative_tps_025, (cumulative_fps_025 + cumulative_tps_025))"
      ]
    },
    {
      "cell_type": "code",
      "execution_count": 37,
      "metadata": {
        "id": "YmSlxl0Xe9Np"
      },
      "outputs": [],
      "source": [
        "decreasing_max_precision_025 = np.maximum.accumulate(precisions_025[::-1])[::-1]"
      ]
    },
    {
      "cell_type": "code",
      "execution_count": 38,
      "metadata": {
        "id": "XUT1ge6ifEe1"
      },
      "outputs": [],
      "source": [
        "ap025 = compute_ap(recalls_025, decreasing_max_precision_025)"
      ]
    },
    {
      "cell_type": "code",
      "execution_count": 39,
      "metadata": {
        "id": "LUBTYGDzfKb3"
      },
      "outputs": [],
      "source": [
        "tps_05 = []\n",
        "fps_05 = []"
      ]
    },
    {
      "cell_type": "code",
      "execution_count": 40,
      "metadata": {
        "id": "qq67816_fLVu"
      },
      "outputs": [],
      "source": [
        "for index, row in df_sorted.iterrows():\n",
        "    #print(row['ground_truth'], row['predicted'])\n",
        "    if (row['IOU']>0.5):\n",
        "      tps_05.append(1)\n",
        "      fps_05.append(0)\n",
        "    else:\n",
        "      tps_05.append(0)\n",
        "      fps_05.append(1)"
      ]
    },
    {
      "cell_type": "code",
      "execution_count": 41,
      "metadata": {
        "id": "dtsxCG1YfavA"
      },
      "outputs": [],
      "source": [
        "df_sorted[\"tps_05\"] = tps_05\n",
        "df_sorted[\"fps_05\"] = fps_05"
      ]
    },
    {
      "cell_type": "code",
      "execution_count": 42,
      "metadata": {
        "id": "fu1hCWfsfg8O"
      },
      "outputs": [],
      "source": [
        "cumulative_fps_05 = df_sorted[\"fps_05\"].cumsum()\n",
        "cumulative_tps_05 = df_sorted[\"tps_05\"].cumsum()"
      ]
    },
    {
      "cell_type": "code",
      "execution_count": 43,
      "metadata": {
        "id": "Hk8CUwBCfqDe"
      },
      "outputs": [],
      "source": [
        "recalls_05 = np.divide(cumulative_tps_05, golds)\n",
        "precisions_05 = np.divide(cumulative_tps_05, (cumulative_fps_05 + cumulative_tps_05))"
      ]
    },
    {
      "cell_type": "code",
      "execution_count": 44,
      "metadata": {
        "id": "FM_07W5rf1x1"
      },
      "outputs": [],
      "source": [
        "decreasing_max_precision_05 = np.maximum.accumulate(precisions_05[::-1])[::-1]"
      ]
    },
    {
      "cell_type": "code",
      "execution_count": 45,
      "metadata": {
        "id": "gwe_t3tRf63e"
      },
      "outputs": [],
      "source": [
        "ap05 = compute_ap(recalls_05, decreasing_max_precision_05)"
      ]
    },
    {
      "cell_type": "code",
      "execution_count": 45,
      "metadata": {
        "id": "HNgTmCG7hBqt"
      },
      "outputs": [],
      "source": []
    },
    {
      "cell_type": "code",
      "execution_count": 45,
      "metadata": {
        "id": "L9USCIfAgAQN"
      },
      "outputs": [],
      "source": []
    },
    {
      "cell_type": "markdown",
      "metadata": {
        "id": "bv754Gh-uDUF"
      },
      "source": [
        "with a detection model where you have per-image precision and recall values instead of binary labels,need to calculate the F1 score manually"
      ]
    },
    {
      "cell_type": "code",
      "execution_count": 46,
      "metadata": {
        "id": "yx_UTqCAskxK",
        "colab": {
          "base_uri": "https://localhost:8080/"
        },
        "outputId": "0eb75226-23bf-4c6c-b541-a1a21413e429"
      },
      "outputs": [
        {
          "output_type": "stream",
          "name": "stdout",
          "text": [
            "Overall F1 Score for IOU 0.1: 0.5373199660713517\n"
          ]
        }
      ],
      "source": [
        "import numpy as np\n",
        "\n",
        "# Step 1: Calculate F1 score for each image\n",
        "f1_scores_01 = [2 * (precisions_01 * recalls_01) / (precisions_01 + recalls_01) if (precisions_01 + recalls_01) != 0 else 0 for precisions_01, recalls_01 in zip(precisions_01, recalls_01)]\n",
        "\n",
        "# Step 2: Average F1 scores across all images\n",
        "overall_f1_score_01 = np.mean(f1_scores_01)\n",
        "\n",
        "print(\"Overall F1 Score for IOU 0.1:\", overall_f1_score_01)\n"
      ]
    },
    {
      "cell_type": "code",
      "execution_count": 47,
      "metadata": {
        "id": "vueNXfwIuHy_",
        "colab": {
          "base_uri": "https://localhost:8080/"
        },
        "outputId": "b991e1c4-613f-4db6-9409-b529ded45060"
      },
      "outputs": [
        {
          "output_type": "stream",
          "name": "stdout",
          "text": [
            "Overall F1 Score for IOU 0.25: 0.4268218647232168\n"
          ]
        }
      ],
      "source": [
        "# Step 1: Calculate F1 score for each image\n",
        "f1_scores_025 = [2 * (precisions_025 * recalls_025) / (precisions_025 + recalls_025) if (precisions_025 + recalls_025) != 0 else 0 for precisions_025, recalls_025 in zip(precisions_025, recalls_025)]\n",
        "\n",
        "# Step 2: Average F1 scores across all images\n",
        "overall_f1_score_025 = np.mean(f1_scores_025)\n",
        "\n",
        "print(\"Overall F1 Score for IOU 0.25:\", overall_f1_score_025)"
      ]
    },
    {
      "cell_type": "code",
      "execution_count": 48,
      "metadata": {
        "id": "1Pi4Fx-xuIqY",
        "colab": {
          "base_uri": "https://localhost:8080/"
        },
        "outputId": "50a90b9f-e03b-4716-bfa2-9f18b8995366"
      },
      "outputs": [
        {
          "output_type": "stream",
          "name": "stdout",
          "text": [
            "Overall F1 Score for IOU 0.5: 0.217463988613805\n"
          ]
        }
      ],
      "source": [
        "# Step 1: Calculate F1 score for each image\n",
        "f1_scores_05 = [2 * (precisions_05 * recalls_05) / (precisions_05 + recalls_05) if (precisions_05 + recalls_05) != 0 else 0 for precisions_05, recalls_05 in zip(precisions_05, recalls_05)]\n",
        "\n",
        "# Step 2: Average F1 scores across all images\n",
        "overall_f1_score_05 = np.mean(f1_scores_05)\n",
        "\n",
        "print(\"Overall F1 Score for IOU 0.5:\", overall_f1_score_05)"
      ]
    },
    {
      "cell_type": "code",
      "execution_count": 49,
      "metadata": {
        "id": "vQrxPZYguysr",
        "colab": {
          "base_uri": "https://localhost:8080/",
          "height": 784
        },
        "outputId": "a9143f73-d42c-4934-d4a7-c7c82916cb07"
      },
      "outputs": [
        {
          "output_type": "stream",
          "name": "stderr",
          "text": [
            "<ipython-input-49-a182c365dca4>:5: UserWarning: linestyle is redundantly defined by the 'linestyle' keyword argument and the fmt string \"-r\" (-> linestyle='-'). The keyword argument will take precedence.\n",
            "  plt.step(recalls_05, decreasing_max_precision_05, '-r',linestyle='--', label=f\"Interpolated precision for IOU>0.5: {round(ap05, 3)}\")\n",
            "<ipython-input-49-a182c365dca4>:7: UserWarning: linestyle is redundantly defined by the 'linestyle' keyword argument and the fmt string \"-g\" (-> linestyle='-'). The keyword argument will take precedence.\n",
            "  plt.step(recalls_025, decreasing_max_precision_025,  '-g',linestyle='--', label=f\"Interpolated precision for IOU>0.25: {round(ap025, 3)}\")\n",
            "<ipython-input-49-a182c365dca4>:9: UserWarning: linestyle is redundantly defined by the 'linestyle' keyword argument and the fmt string \"-b\" (-> linestyle='-'). The keyword argument will take precedence.\n",
            "  plt.step(recalls_01, decreasing_max_precision_01, '-b', linestyle='--',label=f\"Interpolated precision for IOU>0.1: {round(ap01, 3)}\")\n"
          ]
        },
        {
          "output_type": "display_data",
          "data": {
            "text/plain": [
              "<Figure size 1200x800 with 1 Axes>"
            ],
            "image/png": "[encoded data removed]"
          },
          "metadata": {}
        }
      ],
      "source": [
        "import matplotlib.pyplot as plt\n",
        "plt.figure(figsize=(12, 8))\n",
        "# Plotting the curves\n",
        "plt.plot(recalls_05, precisions_05, '-r', label=f\"Precision for IOU>0.5\")\n",
        "plt.step(recalls_05, decreasing_max_precision_05, '-r',linestyle='--', label=f\"Interpolated precision for IOU>0.5: {round(ap05, 3)}\")\n",
        "plt.plot(recalls_025, precisions_025, '-g', label=f\"Precision for IOU>0.25\")\n",
        "plt.step(recalls_025, decreasing_max_precision_025,  '-g',linestyle='--', label=f\"Interpolated precision for IOU>0.25: {round(ap025, 3)}\")\n",
        "plt.plot(recalls_01, precisions_01, '-b',  label=f\"Precision for IOU>0.1\")\n",
        "plt.step(recalls_01, decreasing_max_precision_01, '-b', linestyle='--',label=f\"Interpolated precision for IOU>0.1: {round(ap01, 3)}\")\n",
        "\n",
        "plt.xlabel('Recall',fontsize = 12)\n",
        "plt.ylabel('Precision',fontsize = 12)\n",
        "plt.title('Precision-Recall Curve',fontsize = 12)\n",
        "\n",
        "plt.xlim(0, 1)\n",
        "plt.ylim(0, 1.05)\n",
        "plt.grid(True)\n",
        "\n",
        "# Placing legend outside the plot and increasing font size\n",
        "plt.legend(loc='upper left', bbox_to_anchor=(1, 1), fontsize='large')\n",
        "\n",
        "plt.show()\n"
      ]
    },
    {
      "cell_type": "code",
      "source": [
        "# import matplotlib.pyplot as plt\n",
        "\n",
        "# # Tabular data\n",
        "# experiments = [1, 2, 3, 4, 5, 6, 7, 8]\n",
        "# f1_scores = [0.648, 0.289, 0.04, 0.848, 0.773, 0.729, 0.663, 0.924]\n",
        "# f1_scores_quantized = [0.549, 0, 0, 0.071, 0.199, 0.614, 0.084, 0.076]\n",
        "\n",
        "# # Plotting\n",
        "# plt.figure(figsize=(12, 8))\n",
        "# plt.plot(experiments, f1_scores, marker='o', color='blue', linestyle='-', linewidth=2, label='Uncompressed')\n",
        "# plt.plot(experiments, f1_scores_quantized, marker='o', color='red', linestyle='-', linewidth=2, label='Quantized')\n",
        "# for exp, f1 in zip(experiments, f1_scores):\n",
        "#     plt.text(exp, f1, f'{f1:.3f}', color='blue', fontsize=12, ha='left', va='bottom', rotation=0,\n",
        "#              bbox=dict(facecolor='white', edgecolor='none', boxstyle='round,pad=0.2'))\n",
        "# for exp, f1 in zip(experiments, f1_scores_quantized):\n",
        "#     plt.text(exp, f1, f'{f1:.3f}', color='red', fontsize=12, ha='left', va='bottom', rotation=0,\n",
        "#              bbox=dict(facecolor='white', edgecolor='none', boxstyle='round,pad=0.2'))\n",
        "# plt.title('Average Precision for IOU > 0.1')\n",
        "# plt.xlabel('Experiment Number')\n",
        "# plt.ylabel('Average Precision')\n",
        "# plt.xticks(experiments)\n",
        "# plt.grid(True)\n",
        "# plt.legend(loc='center left', bbox_to_anchor=(1, 0.97))\n",
        "# plt.tight_layout()\n",
        "# plt.show()\n"
      ],
      "metadata": {
        "id": "3RUSirNkuueF"
      },
      "execution_count": 50,
      "outputs": []
    },
    {
      "cell_type": "code",
      "source": [
        "\n"
      ],
      "metadata": {
        "id": "NFn4UNTqfpZu"
      },
      "execution_count": 50,
      "outputs": []
    }
  ],
  "metadata": {
    "colab": {
      "provenance": []
    },
    "kernelspec": {
      "display_name": "Python 3",
      "name": "python3"
    },
    "language_info": {
      "name": "python"
    }
  },
  "nbformat": 4,
  "nbformat_minor": 0
}
