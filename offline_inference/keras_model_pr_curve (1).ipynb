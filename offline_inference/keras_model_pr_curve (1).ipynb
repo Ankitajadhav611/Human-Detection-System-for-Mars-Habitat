{
  "nbformat": 4,
  "nbformat_minor": 0,
  "metadata": {
    "colab": {
      "provenance": []
    },
    "kernelspec": {
      "name": "python3",
      "display_name": "Python 3"
    },
    "language_info": {
      "name": "python"
    }
  },
  "cells": [
    {
      "cell_type": "code",
      "execution_count": 50,
      "metadata": {
        "id": "ApbzqTmWAWqp"
      },
      "outputs": [],
      "source": [
        "#libraries\n",
        "import os\n",
        "import cv2\n",
        "import numpy as np\n",
        "import pandas as pd"
      ]
    },
    {
      "cell_type": "code",
      "source": [
        "df =pd.read_csv(\"/content/keras_normal_casev88.csv\")"
      ],
      "metadata": {
        "id": "g7TRS1J_AgN_"
      },
      "execution_count": 51,
      "outputs": []
    },
    {
      "cell_type": "code",
      "source": [
        "df.head()"
      ],
      "metadata": {
        "id": "XcsnB7pcA6a5",
        "colab": {
          "base_uri": "https://localhost:8080/",
          "height": 330
        },
        "outputId": "3bef6a23-6caf-43aa-860b-ebb66f1ef89f"
      },
      "execution_count": 52,
      "outputs": [
        {
          "output_type": "execute_result",
          "data": {
            "text/plain": [
              "                images     p_centriod g_left_top g_right_bottom  g_human  \\\n",
              "0  image_test (01).jpg         [0, 0]     [0, 0]         [0, 0]        0   \n",
              "1  image_test (02).jpg         [0, 0]     [0, 0]         [0, 0]        0   \n",
              "2  image_test (03).jpg  [20.0, 59.25]    [13,31]        [34,95]        1   \n",
              "3  image_test (04).jpg   [44.0, 64.0]    [35,37]        [54,95]        1   \n",
              "4  image_test (05).jpg         [0, 0]     [0, 0]         [0, 0]        0   \n",
              "\n",
              "   confidence_score  p_human p_left_top p_right_bottom  Unnamed: 9  \\\n",
              "0          0.000000        0     [0, 0]         [0, 0]         NaN   \n",
              "1          0.000000        0     [0, 0]         [0, 0]         NaN   \n",
              "2          0.969260        1   [10, 19]       [35, 94]         NaN   \n",
              "3          0.999982        1   [34, 24]       [59, 95]         NaN   \n",
              "4          0.000000        0     [0, 0]         [0, 0]         NaN   \n",
              "\n",
              "   Unnamed: 10  Unnamed: 11  Unnamed: 12  Unnamed: 13  \n",
              "0          NaN     0.599885     0.577803     0.504291  \n",
              "1          NaN          NaN          NaN          NaN  \n",
              "2          NaN          NaN          NaN          NaN  \n",
              "3          NaN          NaN          NaN          NaN  \n",
              "4          NaN          NaN          NaN          NaN  "
            ],
            "text/html": [
              "\n",
              "  <div id=\"df-f62d4ca1-e2d6-488a-9db4-fd2bd4fc28d7\" class=\"colab-df-container\">\n",
              "    <div>\n",
              "<style scoped>\n",
              "    .dataframe tbody tr th:only-of-type {\n",
              "        vertical-align: middle;\n",
              "    }\n",
              "\n",
              "    .dataframe tbody tr th {\n",
              "        vertical-align: top;\n",
              "    }\n",
              "\n",
              "    .dataframe thead th {\n",
              "        text-align: right;\n",
              "    }\n",
              "</style>\n",
              "<table border=\"1\" class=\"dataframe\">\n",
              "  <thead>\n",
              "    <tr style=\"text-align: right;\">\n",
              "      <th></th>\n",
              "      <th>images</th>\n",
              "      <th>p_centriod</th>\n",
              "      <th>g_left_top</th>\n",
              "      <th>g_right_bottom</th>\n",
              "      <th>g_human</th>\n",
              "      <th>confidence_score</th>\n",
              "      <th>p_human</th>\n",
              "      <th>p_left_top</th>\n",
              "      <th>p_right_bottom</th>\n",
              "      <th>Unnamed: 9</th>\n",
              "      <th>Unnamed: 10</th>\n",
              "      <th>Unnamed: 11</th>\n",
              "      <th>Unnamed: 12</th>\n",
              "      <th>Unnamed: 13</th>\n",
              "    </tr>\n",
              "  </thead>\n",
              "  <tbody>\n",
              "    <tr>\n",
              "      <th>0</th>\n",
              "      <td>image_test (01).jpg</td>\n",
              "      <td>[0, 0]</td>\n",
              "      <td>[0, 0]</td>\n",
              "      <td>[0, 0]</td>\n",
              "      <td>0</td>\n",
              "      <td>0.000000</td>\n",
              "      <td>0</td>\n",
              "      <td>[0, 0]</td>\n",
              "      <td>[0, 0]</td>\n",
              "      <td>NaN</td>\n",
              "      <td>NaN</td>\n",
              "      <td>0.599885</td>\n",
              "      <td>0.577803</td>\n",
              "      <td>0.504291</td>\n",
              "    </tr>\n",
              "    <tr>\n",
              "      <th>1</th>\n",
              "      <td>image_test (02).jpg</td>\n",
              "      <td>[0, 0]</td>\n",
              "      <td>[0, 0]</td>\n",
              "      <td>[0, 0]</td>\n",
              "      <td>0</td>\n",
              "      <td>0.000000</td>\n",
              "      <td>0</td>\n",
              "      <td>[0, 0]</td>\n",
              "      <td>[0, 0]</td>\n",
              "      <td>NaN</td>\n",
              "      <td>NaN</td>\n",
              "      <td>NaN</td>\n",
              "      <td>NaN</td>\n",
              "      <td>NaN</td>\n",
              "    </tr>\n",
              "    <tr>\n",
              "      <th>2</th>\n",
              "      <td>image_test (03).jpg</td>\n",
              "      <td>[20.0, 59.25]</td>\n",
              "      <td>[13,31]</td>\n",
              "      <td>[34,95]</td>\n",
              "      <td>1</td>\n",
              "      <td>0.969260</td>\n",
              "      <td>1</td>\n",
              "      <td>[10, 19]</td>\n",
              "      <td>[35, 94]</td>\n",
              "      <td>NaN</td>\n",
              "      <td>NaN</td>\n",
              "      <td>NaN</td>\n",
              "      <td>NaN</td>\n",
              "      <td>NaN</td>\n",
              "    </tr>\n",
              "    <tr>\n",
              "      <th>3</th>\n",
              "      <td>image_test (04).jpg</td>\n",
              "      <td>[44.0, 64.0]</td>\n",
              "      <td>[35,37]</td>\n",
              "      <td>[54,95]</td>\n",
              "      <td>1</td>\n",
              "      <td>0.999982</td>\n",
              "      <td>1</td>\n",
              "      <td>[34, 24]</td>\n",
              "      <td>[59, 95]</td>\n",
              "      <td>NaN</td>\n",
              "      <td>NaN</td>\n",
              "      <td>NaN</td>\n",
              "      <td>NaN</td>\n",
              "      <td>NaN</td>\n",
              "    </tr>\n",
              "    <tr>\n",
              "      <th>4</th>\n",
              "      <td>image_test (05).jpg</td>\n",
              "      <td>[0, 0]</td>\n",
              "      <td>[0, 0]</td>\n",
              "      <td>[0, 0]</td>\n",
              "      <td>0</td>\n",
              "      <td>0.000000</td>\n",
              "      <td>0</td>\n",
              "      <td>[0, 0]</td>\n",
              "      <td>[0, 0]</td>\n",
              "      <td>NaN</td>\n",
              "      <td>NaN</td>\n",
              "      <td>NaN</td>\n",
              "      <td>NaN</td>\n",
              "      <td>NaN</td>\n",
              "    </tr>\n",
              "  </tbody>\n",
              "</table>\n",
              "</div>\n",
              "    <div class=\"colab-df-buttons\">\n",
              "\n",
              "  <div class=\"colab-df-container\">\n",
              "    <button class=\"colab-df-convert\" onclick=\"convertToInteractive('df-f62d4ca1-e2d6-488a-9db4-fd2bd4fc28d7')\"\n",
              "            title=\"Convert this dataframe to an interactive table.\"\n",
              "            style=\"display:none;\">\n",
              "\n",
              "  <svg xmlns=\"http://www.w3.org/2000/svg\" height=\"24px\" viewBox=\"0 -960 960 960\">\n",
              "    <path d=\"M120-120v-720h720v720H120Zm60-500h600v-160H180v160Zm220 220h160v-160H400v160Zm0 220h160v-160H400v160ZM180-400h160v-160H180v160Zm440 0h160v-160H620v160ZM180-180h160v-160H180v160Zm440 0h160v-160H620v160Z\"/>\n",
              "  </svg>\n",
              "    </button>\n",
              "\n",
              "  <style>\n",
              "    .colab-df-container {\n",
              "      display:flex;\n",
              "      gap: 12px;\n",
              "    }\n",
              "\n",
              "    .colab-df-convert {\n",
              "      background-color: #E8F0FE;\n",
              "      border: none;\n",
              "      border-radius: 50%;\n",
              "      cursor: pointer;\n",
              "      display: none;\n",
              "      fill: #1967D2;\n",
              "      height: 32px;\n",
              "      padding: 0 0 0 0;\n",
              "      width: 32px;\n",
              "    }\n",
              "\n",
              "    .colab-df-convert:hover {\n",
              "      background-color: #E2EBFA;\n",
              "      box-shadow: 0px 1px 2px rgba(60, 64, 67, 0.3), 0px 1px 3px 1px rgba(60, 64, 67, 0.15);\n",
              "      fill: #174EA6;\n",
              "    }\n",
              "\n",
              "    .colab-df-buttons div {\n",
              "      margin-bottom: 4px;\n",
              "    }\n",
              "\n",
              "    [theme=dark] .colab-df-convert {\n",
              "      background-color: #3B4455;\n",
              "      fill: #D2E3FC;\n",
              "    }\n",
              "\n",
              "    [theme=dark] .colab-df-convert:hover {\n",
              "      background-color: #434B5C;\n",
              "      box-shadow: 0px 1px 3px 1px rgba(0, 0, 0, 0.15);\n",
              "      filter: drop-shadow(0px 1px 2px rgba(0, 0, 0, 0.3));\n",
              "      fill: #FFFFFF;\n",
              "    }\n",
              "  </style>\n",
              "\n",
              "    <script>\n",
              "      const buttonEl =\n",
              "        document.querySelector('#df-f62d4ca1-e2d6-488a-9db4-fd2bd4fc28d7 button.colab-df-convert');\n",
              "      buttonEl.style.display =\n",
              "        google.colab.kernel.accessAllowed ? 'block' : 'none';\n",
              "\n",
              "      async function convertToInteractive(key) {\n",
              "        const element = document.querySelector('#df-f62d4ca1-e2d6-488a-9db4-fd2bd4fc28d7');\n",
              "        const dataTable =\n",
              "          await google.colab.kernel.invokeFunction('convertToInteractive',\n",
              "                                                    [key], {});\n",
              "        if (!dataTable) return;\n",
              "\n",
              "        const docLinkHtml = 'Like what you see? Visit the ' +\n",
              "          '<a target=\"_blank\" href=https://colab.research.google.com/notebooks/data_table.ipynb>data table notebook</a>'\n",
              "          + ' to learn more about interactive tables.';\n",
              "        element.innerHTML = '';\n",
              "        dataTable['output_type'] = 'display_data';\n",
              "        await google.colab.output.renderOutput(dataTable, element);\n",
              "        const docLink = document.createElement('div');\n",
              "        docLink.innerHTML = docLinkHtml;\n",
              "        element.appendChild(docLink);\n",
              "      }\n",
              "    </script>\n",
              "  </div>\n",
              "\n",
              "\n",
              "<div id=\"df-7848e829-c741-42cb-b60d-6b08e213f3b6\">\n",
              "  <button class=\"colab-df-quickchart\" onclick=\"quickchart('df-7848e829-c741-42cb-b60d-6b08e213f3b6')\"\n",
              "            title=\"Suggest charts\"\n",
              "            style=\"display:none;\">\n",
              "\n",
              "<svg xmlns=\"http://www.w3.org/2000/svg\" height=\"24px\"viewBox=\"0 0 24 24\"\n",
              "     width=\"24px\">\n",
              "    <g>\n",
              "        <path d=\"M19 3H5c-1.1 0-2 .9-2 2v14c0 1.1.9 2 2 2h14c1.1 0 2-.9 2-2V5c0-1.1-.9-2-2-2zM9 17H7v-7h2v7zm4 0h-2V7h2v10zm4 0h-2v-4h2v4z\"/>\n",
              "    </g>\n",
              "</svg>\n",
              "  </button>\n",
              "\n",
              "<style>\n",
              "  .colab-df-quickchart {\n",
              "      --bg-color: #E8F0FE;\n",
              "      --fill-color: #1967D2;\n",
              "      --hover-bg-color: #E2EBFA;\n",
              "      --hover-fill-color: #174EA6;\n",
              "      --disabled-fill-color: #AAA;\n",
              "      --disabled-bg-color: #DDD;\n",
              "  }\n",
              "\n",
              "  [theme=dark] .colab-df-quickchart {\n",
              "      --bg-color: #3B4455;\n",
              "      --fill-color: #D2E3FC;\n",
              "      --hover-bg-color: #434B5C;\n",
              "      --hover-fill-color: #FFFFFF;\n",
              "      --disabled-bg-color: #3B4455;\n",
              "      --disabled-fill-color: #666;\n",
              "  }\n",
              "\n",
              "  .colab-df-quickchart {\n",
              "    background-color: var(--bg-color);\n",
              "    border: none;\n",
              "    border-radius: 50%;\n",
              "    cursor: pointer;\n",
              "    display: none;\n",
              "    fill: var(--fill-color);\n",
              "    height: 32px;\n",
              "    padding: 0;\n",
              "    width: 32px;\n",
              "  }\n",
              "\n",
              "  .colab-df-quickchart:hover {\n",
              "    background-color: var(--hover-bg-color);\n",
              "    box-shadow: 0 1px 2px rgba(60, 64, 67, 0.3), 0 1px 3px 1px rgba(60, 64, 67, 0.15);\n",
              "    fill: var(--button-hover-fill-color);\n",
              "  }\n",
              "\n",
              "  .colab-df-quickchart-complete:disabled,\n",
              "  .colab-df-quickchart-complete:disabled:hover {\n",
              "    background-color: var(--disabled-bg-color);\n",
              "    fill: var(--disabled-fill-color);\n",
              "    box-shadow: none;\n",
              "  }\n",
              "\n",
              "  .colab-df-spinner {\n",
              "    border: 2px solid var(--fill-color);\n",
              "    border-color: transparent;\n",
              "    border-bottom-color: var(--fill-color);\n",
              "    animation:\n",
              "      spin 1s steps(1) infinite;\n",
              "  }\n",
              "\n",
              "  @keyframes spin {\n",
              "    0% {\n",
              "      border-color: transparent;\n",
              "      border-bottom-color: var(--fill-color);\n",
              "      border-left-color: var(--fill-color);\n",
              "    }\n",
              "    20% {\n",
              "      border-color: transparent;\n",
              "      border-left-color: var(--fill-color);\n",
              "      border-top-color: var(--fill-color);\n",
              "    }\n",
              "    30% {\n",
              "      border-color: transparent;\n",
              "      border-left-color: var(--fill-color);\n",
              "      border-top-color: var(--fill-color);\n",
              "      border-right-color: var(--fill-color);\n",
              "    }\n",
              "    40% {\n",
              "      border-color: transparent;\n",
              "      border-right-color: var(--fill-color);\n",
              "      border-top-color: var(--fill-color);\n",
              "    }\n",
              "    60% {\n",
              "      border-color: transparent;\n",
              "      border-right-color: var(--fill-color);\n",
              "    }\n",
              "    80% {\n",
              "      border-color: transparent;\n",
              "      border-right-color: var(--fill-color);\n",
              "      border-bottom-color: var(--fill-color);\n",
              "    }\n",
              "    90% {\n",
              "      border-color: transparent;\n",
              "      border-bottom-color: var(--fill-color);\n",
              "    }\n",
              "  }\n",
              "</style>\n",
              "\n",
              "  <script>\n",
              "    async function quickchart(key) {\n",
              "      const quickchartButtonEl =\n",
              "        document.querySelector('#' + key + ' button');\n",
              "      quickchartButtonEl.disabled = true;  // To prevent multiple clicks.\n",
              "      quickchartButtonEl.classList.add('colab-df-spinner');\n",
              "      try {\n",
              "        const charts = await google.colab.kernel.invokeFunction(\n",
              "            'suggestCharts', [key], {});\n",
              "      } catch (error) {\n",
              "        console.error('Error during call to suggestCharts:', error);\n",
              "      }\n",
              "      quickchartButtonEl.classList.remove('colab-df-spinner');\n",
              "      quickchartButtonEl.classList.add('colab-df-quickchart-complete');\n",
              "    }\n",
              "    (() => {\n",
              "      let quickchartButtonEl =\n",
              "        document.querySelector('#df-7848e829-c741-42cb-b60d-6b08e213f3b6 button');\n",
              "      quickchartButtonEl.style.display =\n",
              "        google.colab.kernel.accessAllowed ? 'block' : 'none';\n",
              "    })();\n",
              "  </script>\n",
              "</div>\n",
              "    </div>\n",
              "  </div>\n"
            ],
            "application/vnd.google.colaboratory.intrinsic+json": {
              "type": "dataframe",
              "variable_name": "df",
              "summary": "{\n  \"name\": \"df\",\n  \"rows\": 50,\n  \"fields\": [\n    {\n      \"column\": \"images\",\n      \"properties\": {\n        \"dtype\": \"string\",\n        \"num_unique_values\": 50,\n        \"samples\": [\n          \"image_test (14).jpg\",\n          \"image_test (40).jpg\",\n          \"image_test (31).jpg\"\n        ],\n        \"semantic_type\": \"\",\n        \"description\": \"\"\n      }\n    },\n    {\n      \"column\": \"p_centriod\",\n      \"properties\": {\n        \"dtype\": \"string\",\n        \"num_unique_values\": 26,\n        \"samples\": [\n          \"[52.0, 59.25]\",\n          \"[32.0, 36.0]\",\n          \"[0, 0]\"\n        ],\n        \"semantic_type\": \"\",\n        \"description\": \"\"\n      }\n    },\n    {\n      \"column\": \"g_left_top\",\n      \"properties\": {\n        \"dtype\": \"string\",\n        \"num_unique_values\": 27,\n        \"samples\": [\n          \"[36,33]\",\n          \"[23,36]\",\n          \"[62,26]\"\n        ],\n        \"semantic_type\": \"\",\n        \"description\": \"\"\n      }\n    },\n    {\n      \"column\": \"g_right_bottom\",\n      \"properties\": {\n        \"dtype\": \"category\",\n        \"num_unique_values\": 23,\n        \"samples\": [\n          \"[50,95]\",\n          \"[83,95]\",\n          \"[0, 0]\"\n        ],\n        \"semantic_type\": \"\",\n        \"description\": \"\"\n      }\n    },\n    {\n      \"column\": \"g_human\",\n      \"properties\": {\n        \"dtype\": \"number\",\n        \"std\": 0,\n        \"min\": 0,\n        \"max\": 1,\n        \"num_unique_values\": 2,\n        \"samples\": [\n          1,\n          0\n        ],\n        \"semantic_type\": \"\",\n        \"description\": \"\"\n      }\n    },\n    {\n      \"column\": \"confidence_score\",\n      \"properties\": {\n        \"dtype\": \"number\",\n        \"std\": 0.45933781640814186,\n        \"min\": 0.0,\n        \"max\": 0.999982297,\n        \"num_unique_values\": 33,\n        \"samples\": [\n          0.948136747,\n          0.999918044\n        ],\n        \"semantic_type\": \"\",\n        \"description\": \"\"\n      }\n    },\n    {\n      \"column\": \"p_human\",\n      \"properties\": {\n        \"dtype\": \"number\",\n        \"std\": 0,\n        \"min\": 0,\n        \"max\": 1,\n        \"num_unique_values\": 2,\n        \"samples\": [\n          1,\n          0\n        ],\n        \"semantic_type\": \"\",\n        \"description\": \"\"\n      }\n    },\n    {\n      \"column\": \"p_left_top\",\n      \"properties\": {\n        \"dtype\": \"string\",\n        \"num_unique_values\": 25,\n        \"samples\": [\n          \"[42, 19]\",\n          \"[38, 6]\"\n        ],\n        \"semantic_type\": \"\",\n        \"description\": \"\"\n      }\n    },\n    {\n      \"column\": \"p_right_bottom\",\n      \"properties\": {\n        \"dtype\": \"string\",\n        \"num_unique_values\": 25,\n        \"samples\": [\n          \"[67, 94]\",\n          \"[47, 71]\"\n        ],\n        \"semantic_type\": \"\",\n        \"description\": \"\"\n      }\n    },\n    {\n      \"column\": \"Unnamed: 9\",\n      \"properties\": {\n        \"dtype\": \"number\",\n        \"std\": null,\n        \"min\": null,\n        \"max\": null,\n        \"num_unique_values\": 0,\n        \"samples\": [],\n        \"semantic_type\": \"\",\n        \"description\": \"\"\n      }\n    },\n    {\n      \"column\": \"Unnamed: 10\",\n      \"properties\": {\n        \"dtype\": \"number\",\n        \"std\": null,\n        \"min\": null,\n        \"max\": null,\n        \"num_unique_values\": 0,\n        \"samples\": [],\n        \"semantic_type\": \"\",\n        \"description\": \"\"\n      }\n    },\n    {\n      \"column\": \"Unnamed: 11\",\n      \"properties\": {\n        \"dtype\": \"number\",\n        \"std\": null,\n        \"min\": 0.59988524,\n        \"max\": 0.59988524,\n        \"num_unique_values\": 1,\n        \"samples\": [],\n        \"semantic_type\": \"\",\n        \"description\": \"\"\n      }\n    },\n    {\n      \"column\": \"Unnamed: 12\",\n      \"properties\": {\n        \"dtype\": \"number\",\n        \"std\": null,\n        \"min\": 0.57780299,\n        \"max\": 0.57780299,\n        \"num_unique_values\": 1,\n        \"samples\": [],\n        \"semantic_type\": \"\",\n        \"description\": \"\"\n      }\n    },\n    {\n      \"column\": \"Unnamed: 13\",\n      \"properties\": {\n        \"dtype\": \"number\",\n        \"std\": null,\n        \"min\": 0.50429133,\n        \"max\": 0.50429133,\n        \"num_unique_values\": 1,\n        \"samples\": [],\n        \"semantic_type\": \"\",\n        \"description\": \"\"\n      }\n    }\n  ]\n}"
            }
          },
          "metadata": {},
          "execution_count": 52
        }
      ]
    },
    {
      "cell_type": "code",
      "source": [
        "df = df.fillna(\"[0,0]\")"
      ],
      "metadata": {
        "id": "FrSxOOY6tDKB"
      },
      "execution_count": 53,
      "outputs": []
    },
    {
      "cell_type": "code",
      "source": [
        "import ast"
      ],
      "metadata": {
        "id": "yFtfYDTwA_-g"
      },
      "execution_count": 54,
      "outputs": []
    },
    {
      "cell_type": "code",
      "source": [
        "df[\"g_left_top\"] = df[\"g_left_top\"].apply(ast.literal_eval)\n",
        "df[\"g_right_bottom\"] = df[\"g_right_bottom\"].apply(ast.literal_eval)\n",
        "df[\"p_left_top\"] = df[\"p_left_top\"].apply(ast.literal_eval)\n",
        "df[\"p_right_bottom\"] = df[\"p_right_bottom\"].apply(ast.literal_eval)"
      ],
      "metadata": {
        "id": "m3YOv8LvBQWB"
      },
      "execution_count": 55,
      "outputs": []
    },
    {
      "cell_type": "code",
      "source": [
        "pip install torchmetrics"
      ],
      "metadata": {
        "id": "9UMPPcU9Biba",
        "colab": {
          "base_uri": "https://localhost:8080/"
        },
        "outputId": "542f0ebe-83cd-4ce2-b4e4-39fd96022491"
      },
      "execution_count": 56,
      "outputs": [
        {
          "output_type": "stream",
          "name": "stdout",
          "text": [
            "Requirement already satisfied: torchmetrics in /usr/local/lib/python3.10/dist-packages (1.3.2)\n",
            "Requirement already satisfied: numpy>1.20.0 in /usr/local/lib/python3.10/dist-packages (from torchmetrics) (1.25.2)\n",
            "Requirement already satisfied: packaging>17.1 in /usr/local/lib/python3.10/dist-packages (from torchmetrics) (24.0)\n",
            "Requirement already satisfied: torch>=1.10.0 in /usr/local/lib/python3.10/dist-packages (from torchmetrics) (2.2.1+cu121)\n",
            "Requirement already satisfied: lightning-utilities>=0.8.0 in /usr/local/lib/python3.10/dist-packages (from torchmetrics) (0.11.2)\n",
            "Requirement already satisfied: setuptools in /usr/local/lib/python3.10/dist-packages (from lightning-utilities>=0.8.0->torchmetrics) (67.7.2)\n",
            "Requirement already satisfied: typing-extensions in /usr/local/lib/python3.10/dist-packages (from lightning-utilities>=0.8.0->torchmetrics) (4.11.0)\n",
            "Requirement already satisfied: filelock in /usr/local/lib/python3.10/dist-packages (from torch>=1.10.0->torchmetrics) (3.13.4)\n",
            "Requirement already satisfied: sympy in /usr/local/lib/python3.10/dist-packages (from torch>=1.10.0->torchmetrics) (1.12)\n",
            "Requirement already satisfied: networkx in /usr/local/lib/python3.10/dist-packages (from torch>=1.10.0->torchmetrics) (3.3)\n",
            "Requirement already satisfied: jinja2 in /usr/local/lib/python3.10/dist-packages (from torch>=1.10.0->torchmetrics) (3.1.3)\n",
            "Requirement already satisfied: fsspec in /usr/local/lib/python3.10/dist-packages (from torch>=1.10.0->torchmetrics) (2023.6.0)\n",
            "Requirement already satisfied: nvidia-cuda-nvrtc-cu12==12.1.105 in /usr/local/lib/python3.10/dist-packages (from torch>=1.10.0->torchmetrics) (12.1.105)\n",
            "Requirement already satisfied: nvidia-cuda-runtime-cu12==12.1.105 in /usr/local/lib/python3.10/dist-packages (from torch>=1.10.0->torchmetrics) (12.1.105)\n",
            "Requirement already satisfied: nvidia-cuda-cupti-cu12==12.1.105 in /usr/local/lib/python3.10/dist-packages (from torch>=1.10.0->torchmetrics) (12.1.105)\n",
            "Requirement already satisfied: nvidia-cudnn-cu12==8.9.2.26 in /usr/local/lib/python3.10/dist-packages (from torch>=1.10.0->torchmetrics) (8.9.2.26)\n",
            "Requirement already satisfied: nvidia-cublas-cu12==12.1.3.1 in /usr/local/lib/python3.10/dist-packages (from torch>=1.10.0->torchmetrics) (12.1.3.1)\n",
            "Requirement already satisfied: nvidia-cufft-cu12==11.0.2.54 in /usr/local/lib/python3.10/dist-packages (from torch>=1.10.0->torchmetrics) (11.0.2.54)\n",
            "Requirement already satisfied: nvidia-curand-cu12==10.3.2.106 in /usr/local/lib/python3.10/dist-packages (from torch>=1.10.0->torchmetrics) (10.3.2.106)\n",
            "Requirement already satisfied: nvidia-cusolver-cu12==11.4.5.107 in /usr/local/lib/python3.10/dist-packages (from torch>=1.10.0->torchmetrics) (11.4.5.107)\n",
            "Requirement already satisfied: nvidia-cusparse-cu12==12.1.0.106 in /usr/local/lib/python3.10/dist-packages (from torch>=1.10.0->torchmetrics) (12.1.0.106)\n",
            "Requirement already satisfied: nvidia-nccl-cu12==2.19.3 in /usr/local/lib/python3.10/dist-packages (from torch>=1.10.0->torchmetrics) (2.19.3)\n",
            "Requirement already satisfied: nvidia-nvtx-cu12==12.1.105 in /usr/local/lib/python3.10/dist-packages (from torch>=1.10.0->torchmetrics) (12.1.105)\n",
            "Requirement already satisfied: triton==2.2.0 in /usr/local/lib/python3.10/dist-packages (from torch>=1.10.0->torchmetrics) (2.2.0)\n",
            "Requirement already satisfied: nvidia-nvjitlink-cu12 in /usr/local/lib/python3.10/dist-packages (from nvidia-cusolver-cu12==11.4.5.107->torch>=1.10.0->torchmetrics) (12.4.127)\n",
            "Requirement already satisfied: MarkupSafe>=2.0 in /usr/local/lib/python3.10/dist-packages (from jinja2->torch>=1.10.0->torchmetrics) (2.1.5)\n",
            "Requirement already satisfied: mpmath>=0.19 in /usr/local/lib/python3.10/dist-packages (from sympy->torch>=1.10.0->torchmetrics) (1.3.0)\n"
          ]
        }
      ]
    },
    {
      "cell_type": "code",
      "source": [
        "import torch\n",
        "from torchmetrics.detection import IntersectionOverUnion"
      ],
      "metadata": {
        "id": "st3AAjnhBldc"
      },
      "execution_count": 57,
      "outputs": []
    },
    {
      "cell_type": "code",
      "source": [
        "iou = []"
      ],
      "metadata": {
        "id": "AWmaOHx0Bqzf"
      },
      "execution_count": 58,
      "outputs": []
    },
    {
      "cell_type": "code",
      "source": [
        "for index, row in df.iterrows():\n",
        "  if(row[\"g_human\"]==1) & (row[\"p_human\"]==1):\n",
        "    preds = [\n",
        "    {\n",
        "        \"boxes\": torch.tensor([\n",
        "              [row[\"g_left_top\"][0] , row[\"g_left_top\"][1], row[\"g_right_bottom\"][0], row[\"g_right_bottom\"][1]]]),\n",
        "        \"labels\": torch.tensor([1]),\n",
        "    }\n",
        "    ]\n",
        "    target = [\n",
        "\n",
        "      {\n",
        "          \"boxes\": torch.tensor([ [row[\"p_left_top\"][0] , row[\"p_left_top\"][1], row[\"p_right_bottom\"][0], row[\"p_right_bottom\"][1]]]),\n",
        "          \"labels\": torch.tensor([1]),\n",
        "      }\n",
        "     ]\n",
        "    metric = IntersectionOverUnion()\n",
        "    iou_value = metric(preds, target)\n",
        "    iou.append(iou_value['iou'])\n",
        "  else:\n",
        "    iou.append(0)"
      ],
      "metadata": {
        "id": "O6ZD8PNjB0w0"
      },
      "execution_count": 59,
      "outputs": []
    },
    {
      "cell_type": "code",
      "source": [
        "df['IOU'] = iou"
      ],
      "metadata": {
        "id": "i_v6yggmCAjm"
      },
      "execution_count": 60,
      "outputs": []
    },
    {
      "cell_type": "code",
      "source": [
        "df_sorted = df.sort_values(by='confidence_score', ascending=False)"
      ],
      "metadata": {
        "id": "ojHsbxvCCrq5"
      },
      "execution_count": 61,
      "outputs": []
    },
    {
      "cell_type": "code",
      "source": [
        "df_sorted.head()"
      ],
      "metadata": {
        "id": "nE6vzpTjCzP9",
        "outputId": "ee66d4ed-f7ff-4382-8e57-806638eb76b6",
        "colab": {
          "base_uri": "https://localhost:8080/",
          "height": 330
        }
      },
      "execution_count": 62,
      "outputs": [
        {
          "output_type": "execute_result",
          "data": {
            "text/plain": [
              "                 images     p_centriod g_left_top g_right_bottom  g_human  \\\n",
              "3   image_test (04).jpg   [44.0, 64.0]   [35, 37]       [54, 95]        1   \n",
              "20  image_test (21).jpg   [28.0, 64.0]   [38, 33]       [66, 95]        1   \n",
              "8   image_test (09).jpg   [64.0, 64.0]   [52, 35]       [74, 95]        1   \n",
              "18  image_test (19).jpg   [44.0, 64.0]   [33, 39]       [56, 95]        1   \n",
              "17  image_test (18).jpg  [36.0, 63.25]   [23, 36]       [47, 95]        1   \n",
              "\n",
              "    confidence_score  p_human p_left_top p_right_bottom Unnamed: 9  \\\n",
              "3           0.999982        1   [34, 24]       [59, 95]      [0,0]   \n",
              "20          0.999969        1   [18, 24]       [43, 95]      [0,0]   \n",
              "8           0.999969        1   [54, 24]       [79, 95]      [0,0]   \n",
              "18          0.999968        1   [34, 24]       [59, 95]      [0,0]   \n",
              "17          0.999920        1   [26, 23]       [51, 95]      [0,0]   \n",
              "\n",
              "   Unnamed: 10 Unnamed: 11 Unnamed: 12 Unnamed: 13             IOU  \n",
              "3        [0,0]       [0,0]       [0,0]       [0,0]  tensor(0.6208)  \n",
              "20       [0,0]       [0,0]       [0,0]       [0,0]  tensor(0.0968)  \n",
              "8        [0,0]       [0,0]       [0,0]       [0,0]  tensor(0.6332)  \n",
              "18       [0,0]       [0,0]       [0,0]       [0,0]  tensor(0.6729)  \n",
              "17       [0,0]       [0,0]       [0,0]       [0,0]  tensor(0.6267)  "
            ],
            "text/html": [
              "\n",
              "  <div id=\"df-446542f7-b8a2-4ea6-a613-e1a4b4f020ff\" class=\"colab-df-container\">\n",
              "    <div>\n",
              "<style scoped>\n",
              "    .dataframe tbody tr th:only-of-type {\n",
              "        vertical-align: middle;\n",
              "    }\n",
              "\n",
              "    .dataframe tbody tr th {\n",
              "        vertical-align: top;\n",
              "    }\n",
              "\n",
              "    .dataframe thead th {\n",
              "        text-align: right;\n",
              "    }\n",
              "</style>\n",
              "<table border=\"1\" class=\"dataframe\">\n",
              "  <thead>\n",
              "    <tr style=\"text-align: right;\">\n",
              "      <th></th>\n",
              "      <th>images</th>\n",
              "      <th>p_centriod</th>\n",
              "      <th>g_left_top</th>\n",
              "      <th>g_right_bottom</th>\n",
              "      <th>g_human</th>\n",
              "      <th>confidence_score</th>\n",
              "      <th>p_human</th>\n",
              "      <th>p_left_top</th>\n",
              "      <th>p_right_bottom</th>\n",
              "      <th>Unnamed: 9</th>\n",
              "      <th>Unnamed: 10</th>\n",
              "      <th>Unnamed: 11</th>\n",
              "      <th>Unnamed: 12</th>\n",
              "      <th>Unnamed: 13</th>\n",
              "      <th>IOU</th>\n",
              "    </tr>\n",
              "  </thead>\n",
              "  <tbody>\n",
              "    <tr>\n",
              "      <th>3</th>\n",
              "      <td>image_test (04).jpg</td>\n",
              "      <td>[44.0, 64.0]</td>\n",
              "      <td>[35, 37]</td>\n",
              "      <td>[54, 95]</td>\n",
              "      <td>1</td>\n",
              "      <td>0.999982</td>\n",
              "      <td>1</td>\n",
              "      <td>[34, 24]</td>\n",
              "      <td>[59, 95]</td>\n",
              "      <td>[0,0]</td>\n",
              "      <td>[0,0]</td>\n",
              "      <td>[0,0]</td>\n",
              "      <td>[0,0]</td>\n",
              "      <td>[0,0]</td>\n",
              "      <td>tensor(0.6208)</td>\n",
              "    </tr>\n",
              "    <tr>\n",
              "      <th>20</th>\n",
              "      <td>image_test (21).jpg</td>\n",
              "      <td>[28.0, 64.0]</td>\n",
              "      <td>[38, 33]</td>\n",
              "      <td>[66, 95]</td>\n",
              "      <td>1</td>\n",
              "      <td>0.999969</td>\n",
              "      <td>1</td>\n",
              "      <td>[18, 24]</td>\n",
              "      <td>[43, 95]</td>\n",
              "      <td>[0,0]</td>\n",
              "      <td>[0,0]</td>\n",
              "      <td>[0,0]</td>\n",
              "      <td>[0,0]</td>\n",
              "      <td>[0,0]</td>\n",
              "      <td>tensor(0.0968)</td>\n",
              "    </tr>\n",
              "    <tr>\n",
              "      <th>8</th>\n",
              "      <td>image_test (09).jpg</td>\n",
              "      <td>[64.0, 64.0]</td>\n",
              "      <td>[52, 35]</td>\n",
              "      <td>[74, 95]</td>\n",
              "      <td>1</td>\n",
              "      <td>0.999969</td>\n",
              "      <td>1</td>\n",
              "      <td>[54, 24]</td>\n",
              "      <td>[79, 95]</td>\n",
              "      <td>[0,0]</td>\n",
              "      <td>[0,0]</td>\n",
              "      <td>[0,0]</td>\n",
              "      <td>[0,0]</td>\n",
              "      <td>[0,0]</td>\n",
              "      <td>tensor(0.6332)</td>\n",
              "    </tr>\n",
              "    <tr>\n",
              "      <th>18</th>\n",
              "      <td>image_test (19).jpg</td>\n",
              "      <td>[44.0, 64.0]</td>\n",
              "      <td>[33, 39]</td>\n",
              "      <td>[56, 95]</td>\n",
              "      <td>1</td>\n",
              "      <td>0.999968</td>\n",
              "      <td>1</td>\n",
              "      <td>[34, 24]</td>\n",
              "      <td>[59, 95]</td>\n",
              "      <td>[0,0]</td>\n",
              "      <td>[0,0]</td>\n",
              "      <td>[0,0]</td>\n",
              "      <td>[0,0]</td>\n",
              "      <td>[0,0]</td>\n",
              "      <td>tensor(0.6729)</td>\n",
              "    </tr>\n",
              "    <tr>\n",
              "      <th>17</th>\n",
              "      <td>image_test (18).jpg</td>\n",
              "      <td>[36.0, 63.25]</td>\n",
              "      <td>[23, 36]</td>\n",
              "      <td>[47, 95]</td>\n",
              "      <td>1</td>\n",
              "      <td>0.999920</td>\n",
              "      <td>1</td>\n",
              "      <td>[26, 23]</td>\n",
              "      <td>[51, 95]</td>\n",
              "      <td>[0,0]</td>\n",
              "      <td>[0,0]</td>\n",
              "      <td>[0,0]</td>\n",
              "      <td>[0,0]</td>\n",
              "      <td>[0,0]</td>\n",
              "      <td>tensor(0.6267)</td>\n",
              "    </tr>\n",
              "  </tbody>\n",
              "</table>\n",
              "</div>\n",
              "    <div class=\"colab-df-buttons\">\n",
              "\n",
              "  <div class=\"colab-df-container\">\n",
              "    <button class=\"colab-df-convert\" onclick=\"convertToInteractive('df-446542f7-b8a2-4ea6-a613-e1a4b4f020ff')\"\n",
              "            title=\"Convert this dataframe to an interactive table.\"\n",
              "            style=\"display:none;\">\n",
              "\n",
              "  <svg xmlns=\"http://www.w3.org/2000/svg\" height=\"24px\" viewBox=\"0 -960 960 960\">\n",
              "    <path d=\"M120-120v-720h720v720H120Zm60-500h600v-160H180v160Zm220 220h160v-160H400v160Zm0 220h160v-160H400v160ZM180-400h160v-160H180v160Zm440 0h160v-160H620v160ZM180-180h160v-160H180v160Zm440 0h160v-160H620v160Z\"/>\n",
              "  </svg>\n",
              "    </button>\n",
              "\n",
              "  <style>\n",
              "    .colab-df-container {\n",
              "      display:flex;\n",
              "      gap: 12px;\n",
              "    }\n",
              "\n",
              "    .colab-df-convert {\n",
              "      background-color: #E8F0FE;\n",
              "      border: none;\n",
              "      border-radius: 50%;\n",
              "      cursor: pointer;\n",
              "      display: none;\n",
              "      fill: #1967D2;\n",
              "      height: 32px;\n",
              "      padding: 0 0 0 0;\n",
              "      width: 32px;\n",
              "    }\n",
              "\n",
              "    .colab-df-convert:hover {\n",
              "      background-color: #E2EBFA;\n",
              "      box-shadow: 0px 1px 2px rgba(60, 64, 67, 0.3), 0px 1px 3px 1px rgba(60, 64, 67, 0.15);\n",
              "      fill: #174EA6;\n",
              "    }\n",
              "\n",
              "    .colab-df-buttons div {\n",
              "      margin-bottom: 4px;\n",
              "    }\n",
              "\n",
              "    [theme=dark] .colab-df-convert {\n",
              "      background-color: #3B4455;\n",
              "      fill: #D2E3FC;\n",
              "    }\n",
              "\n",
              "    [theme=dark] .colab-df-convert:hover {\n",
              "      background-color: #434B5C;\n",
              "      box-shadow: 0px 1px 3px 1px rgba(0, 0, 0, 0.15);\n",
              "      filter: drop-shadow(0px 1px 2px rgba(0, 0, 0, 0.3));\n",
              "      fill: #FFFFFF;\n",
              "    }\n",
              "  </style>\n",
              "\n",
              "    <script>\n",
              "      const buttonEl =\n",
              "        document.querySelector('#df-446542f7-b8a2-4ea6-a613-e1a4b4f020ff button.colab-df-convert');\n",
              "      buttonEl.style.display =\n",
              "        google.colab.kernel.accessAllowed ? 'block' : 'none';\n",
              "\n",
              "      async function convertToInteractive(key) {\n",
              "        const element = document.querySelector('#df-446542f7-b8a2-4ea6-a613-e1a4b4f020ff');\n",
              "        const dataTable =\n",
              "          await google.colab.kernel.invokeFunction('convertToInteractive',\n",
              "                                                    [key], {});\n",
              "        if (!dataTable) return;\n",
              "\n",
              "        const docLinkHtml = 'Like what you see? Visit the ' +\n",
              "          '<a target=\"_blank\" href=https://colab.research.google.com/notebooks/data_table.ipynb>data table notebook</a>'\n",
              "          + ' to learn more about interactive tables.';\n",
              "        element.innerHTML = '';\n",
              "        dataTable['output_type'] = 'display_data';\n",
              "        await google.colab.output.renderOutput(dataTable, element);\n",
              "        const docLink = document.createElement('div');\n",
              "        docLink.innerHTML = docLinkHtml;\n",
              "        element.appendChild(docLink);\n",
              "      }\n",
              "    </script>\n",
              "  </div>\n",
              "\n",
              "\n",
              "<div id=\"df-42a3bdcd-f72f-44a3-a00a-742b85ba835f\">\n",
              "  <button class=\"colab-df-quickchart\" onclick=\"quickchart('df-42a3bdcd-f72f-44a3-a00a-742b85ba835f')\"\n",
              "            title=\"Suggest charts\"\n",
              "            style=\"display:none;\">\n",
              "\n",
              "<svg xmlns=\"http://www.w3.org/2000/svg\" height=\"24px\"viewBox=\"0 0 24 24\"\n",
              "     width=\"24px\">\n",
              "    <g>\n",
              "        <path d=\"M19 3H5c-1.1 0-2 .9-2 2v14c0 1.1.9 2 2 2h14c1.1 0 2-.9 2-2V5c0-1.1-.9-2-2-2zM9 17H7v-7h2v7zm4 0h-2V7h2v10zm4 0h-2v-4h2v4z\"/>\n",
              "    </g>\n",
              "</svg>\n",
              "  </button>\n",
              "\n",
              "<style>\n",
              "  .colab-df-quickchart {\n",
              "      --bg-color: #E8F0FE;\n",
              "      --fill-color: #1967D2;\n",
              "      --hover-bg-color: #E2EBFA;\n",
              "      --hover-fill-color: #174EA6;\n",
              "      --disabled-fill-color: #AAA;\n",
              "      --disabled-bg-color: #DDD;\n",
              "  }\n",
              "\n",
              "  [theme=dark] .colab-df-quickchart {\n",
              "      --bg-color: #3B4455;\n",
              "      --fill-color: #D2E3FC;\n",
              "      --hover-bg-color: #434B5C;\n",
              "      --hover-fill-color: #FFFFFF;\n",
              "      --disabled-bg-color: #3B4455;\n",
              "      --disabled-fill-color: #666;\n",
              "  }\n",
              "\n",
              "  .colab-df-quickchart {\n",
              "    background-color: var(--bg-color);\n",
              "    border: none;\n",
              "    border-radius: 50%;\n",
              "    cursor: pointer;\n",
              "    display: none;\n",
              "    fill: var(--fill-color);\n",
              "    height: 32px;\n",
              "    padding: 0;\n",
              "    width: 32px;\n",
              "  }\n",
              "\n",
              "  .colab-df-quickchart:hover {\n",
              "    background-color: var(--hover-bg-color);\n",
              "    box-shadow: 0 1px 2px rgba(60, 64, 67, 0.3), 0 1px 3px 1px rgba(60, 64, 67, 0.15);\n",
              "    fill: var(--button-hover-fill-color);\n",
              "  }\n",
              "\n",
              "  .colab-df-quickchart-complete:disabled,\n",
              "  .colab-df-quickchart-complete:disabled:hover {\n",
              "    background-color: var(--disabled-bg-color);\n",
              "    fill: var(--disabled-fill-color);\n",
              "    box-shadow: none;\n",
              "  }\n",
              "\n",
              "  .colab-df-spinner {\n",
              "    border: 2px solid var(--fill-color);\n",
              "    border-color: transparent;\n",
              "    border-bottom-color: var(--fill-color);\n",
              "    animation:\n",
              "      spin 1s steps(1) infinite;\n",
              "  }\n",
              "\n",
              "  @keyframes spin {\n",
              "    0% {\n",
              "      border-color: transparent;\n",
              "      border-bottom-color: var(--fill-color);\n",
              "      border-left-color: var(--fill-color);\n",
              "    }\n",
              "    20% {\n",
              "      border-color: transparent;\n",
              "      border-left-color: var(--fill-color);\n",
              "      border-top-color: var(--fill-color);\n",
              "    }\n",
              "    30% {\n",
              "      border-color: transparent;\n",
              "      border-left-color: var(--fill-color);\n",
              "      border-top-color: var(--fill-color);\n",
              "      border-right-color: var(--fill-color);\n",
              "    }\n",
              "    40% {\n",
              "      border-color: transparent;\n",
              "      border-right-color: var(--fill-color);\n",
              "      border-top-color: var(--fill-color);\n",
              "    }\n",
              "    60% {\n",
              "      border-color: transparent;\n",
              "      border-right-color: var(--fill-color);\n",
              "    }\n",
              "    80% {\n",
              "      border-color: transparent;\n",
              "      border-right-color: var(--fill-color);\n",
              "      border-bottom-color: var(--fill-color);\n",
              "    }\n",
              "    90% {\n",
              "      border-color: transparent;\n",
              "      border-bottom-color: var(--fill-color);\n",
              "    }\n",
              "  }\n",
              "</style>\n",
              "\n",
              "  <script>\n",
              "    async function quickchart(key) {\n",
              "      const quickchartButtonEl =\n",
              "        document.querySelector('#' + key + ' button');\n",
              "      quickchartButtonEl.disabled = true;  // To prevent multiple clicks.\n",
              "      quickchartButtonEl.classList.add('colab-df-spinner');\n",
              "      try {\n",
              "        const charts = await google.colab.kernel.invokeFunction(\n",
              "            'suggestCharts', [key], {});\n",
              "      } catch (error) {\n",
              "        console.error('Error during call to suggestCharts:', error);\n",
              "      }\n",
              "      quickchartButtonEl.classList.remove('colab-df-spinner');\n",
              "      quickchartButtonEl.classList.add('colab-df-quickchart-complete');\n",
              "    }\n",
              "    (() => {\n",
              "      let quickchartButtonEl =\n",
              "        document.querySelector('#df-42a3bdcd-f72f-44a3-a00a-742b85ba835f button');\n",
              "      quickchartButtonEl.style.display =\n",
              "        google.colab.kernel.accessAllowed ? 'block' : 'none';\n",
              "    })();\n",
              "  </script>\n",
              "</div>\n",
              "    </div>\n",
              "  </div>\n"
            ],
            "application/vnd.google.colaboratory.intrinsic+json": {
              "type": "dataframe",
              "variable_name": "df_sorted",
              "summary": "{\n  \"name\": \"df_sorted\",\n  \"rows\": 50,\n  \"fields\": [\n    {\n      \"column\": \"images\",\n      \"properties\": {\n        \"dtype\": \"string\",\n        \"num_unique_values\": 50,\n        \"samples\": [\n          \"image_test (23).jpg\",\n          \"image_test (35).jpg\",\n          \"image_test (43).jpg\"\n        ],\n        \"semantic_type\": \"\",\n        \"description\": \"\"\n      }\n    },\n    {\n      \"column\": \"p_centriod\",\n      \"properties\": {\n        \"dtype\": \"string\",\n        \"num_unique_values\": 26,\n        \"samples\": [\n          \"[20.0, 56.0]\",\n          \"[12.0, 44.0]\",\n          \"[44.0, 64.0]\"\n        ],\n        \"semantic_type\": \"\",\n        \"description\": \"\"\n      }\n    },\n    {\n      \"column\": \"g_left_top\",\n      \"properties\": {\n        \"dtype\": \"object\",\n        \"semantic_type\": \"\",\n        \"description\": \"\"\n      }\n    },\n    {\n      \"column\": \"g_right_bottom\",\n      \"properties\": {\n        \"dtype\": \"object\",\n        \"semantic_type\": \"\",\n        \"description\": \"\"\n      }\n    },\n    {\n      \"column\": \"g_human\",\n      \"properties\": {\n        \"dtype\": \"number\",\n        \"std\": 0,\n        \"min\": 0,\n        \"max\": 1,\n        \"num_unique_values\": 2,\n        \"samples\": [\n          0,\n          1\n        ],\n        \"semantic_type\": \"\",\n        \"description\": \"\"\n      }\n    },\n    {\n      \"column\": \"confidence_score\",\n      \"properties\": {\n        \"dtype\": \"number\",\n        \"std\": 0.4593378164081419,\n        \"min\": 0.0,\n        \"max\": 0.999982297,\n        \"num_unique_values\": 33,\n        \"samples\": [\n          0.502429485,\n          0.991288364\n        ],\n        \"semantic_type\": \"\",\n        \"description\": \"\"\n      }\n    },\n    {\n      \"column\": \"p_human\",\n      \"properties\": {\n        \"dtype\": \"number\",\n        \"std\": 0,\n        \"min\": 0,\n        \"max\": 1,\n        \"num_unique_values\": 2,\n        \"samples\": [\n          0,\n          1\n        ],\n        \"semantic_type\": \"\",\n        \"description\": \"\"\n      }\n    },\n    {\n      \"column\": \"p_left_top\",\n      \"properties\": {\n        \"dtype\": \"object\",\n        \"semantic_type\": \"\",\n        \"description\": \"\"\n      }\n    },\n    {\n      \"column\": \"p_right_bottom\",\n      \"properties\": {\n        \"dtype\": \"object\",\n        \"semantic_type\": \"\",\n        \"description\": \"\"\n      }\n    },\n    {\n      \"column\": \"Unnamed: 9\",\n      \"properties\": {\n        \"dtype\": \"category\",\n        \"num_unique_values\": 1,\n        \"samples\": [\n          \"[0,0]\"\n        ],\n        \"semantic_type\": \"\",\n        \"description\": \"\"\n      }\n    },\n    {\n      \"column\": \"Unnamed: 10\",\n      \"properties\": {\n        \"dtype\": \"category\",\n        \"num_unique_values\": 1,\n        \"samples\": [\n          \"[0,0]\"\n        ],\n        \"semantic_type\": \"\",\n        \"description\": \"\"\n      }\n    },\n    {\n      \"column\": \"Unnamed: 11\",\n      \"properties\": {\n        \"dtype\": \"category\",\n        \"num_unique_values\": 2,\n        \"samples\": [\n          0.59988524\n        ],\n        \"semantic_type\": \"\",\n        \"description\": \"\"\n      }\n    },\n    {\n      \"column\": \"Unnamed: 12\",\n      \"properties\": {\n        \"dtype\": \"category\",\n        \"num_unique_values\": 2,\n        \"samples\": [\n          0.57780299\n        ],\n        \"semantic_type\": \"\",\n        \"description\": \"\"\n      }\n    },\n    {\n      \"column\": \"Unnamed: 13\",\n      \"properties\": {\n        \"dtype\": \"category\",\n        \"num_unique_values\": 2,\n        \"samples\": [\n          0.50429133\n        ],\n        \"semantic_type\": \"\",\n        \"description\": \"\"\n      }\n    },\n    {\n      \"column\": \"IOU\",\n      \"properties\": {\n        \"dtype\": \"string\",\n        \"num_unique_values\": 27,\n        \"samples\": [\n          \"tensor(0.6687)\"\n        ],\n        \"semantic_type\": \"\",\n        \"description\": \"\"\n      }\n    }\n  ]\n}"
            }
          },
          "metadata": {},
          "execution_count": 62
        }
      ]
    },
    {
      "cell_type": "code",
      "source": [
        "preds =0\n",
        "ground = 0"
      ],
      "metadata": {
        "id": "0MkpiLgJC1Hq"
      },
      "execution_count": 63,
      "outputs": []
    },
    {
      "cell_type": "code",
      "source": [
        "preds = df_sorted[\"g_human\"].sum()\n",
        "ground = df_sorted[\"p_human\"].sum()"
      ],
      "metadata": {
        "id": "krPwG0npDIam"
      },
      "execution_count": 64,
      "outputs": []
    },
    {
      "cell_type": "markdown",
      "source": [
        "calculate precision-recall for varying IOU"
      ],
      "metadata": {
        "id": "9o3TKZs9DxF-"
      }
    },
    {
      "cell_type": "code",
      "source": [
        "tps = []\n",
        "fps = []"
      ],
      "metadata": {
        "id": "43Dn_ePhDqC0"
      },
      "execution_count": 65,
      "outputs": []
    },
    {
      "cell_type": "code",
      "source": [
        "for index, row in df_sorted.iterrows():\n",
        "    #print(row['ground_truth'], row['predicted'])\n",
        "    if (row['IOU']>0.5):\n",
        "      tps.append(1)\n",
        "      fps.append(0)\n",
        "    else:\n",
        "      tps.append(0)\n",
        "      fps.append(1)"
      ],
      "metadata": {
        "id": "shwX3zWkDrSt"
      },
      "execution_count": 66,
      "outputs": []
    },
    {
      "cell_type": "code",
      "source": [
        "df_sorted[\"tps\"] = tps\n",
        "df_sorted[\"fps\"] = fps"
      ],
      "metadata": {
        "id": "MkDEB3i1EGi2"
      },
      "execution_count": 67,
      "outputs": []
    },
    {
      "cell_type": "code",
      "source": [
        "cumulative_fps = df_sorted[\"fps\"].cumsum()\n",
        "cumulative_tps = df_sorted[\"tps\"].cumsum()"
      ],
      "metadata": {
        "id": "LeRc3rQwEKMS"
      },
      "execution_count": 68,
      "outputs": []
    },
    {
      "cell_type": "code",
      "source": [
        "recalls_05 = np.divide(cumulative_tps, ground)\n",
        "precisions_05 = np.divide(cumulative_tps, (cumulative_fps + cumulative_tps))"
      ],
      "metadata": {
        "id": "7guu-Dr4ENxV"
      },
      "execution_count": 69,
      "outputs": []
    },
    {
      "cell_type": "code",
      "source": [
        "def compute_ap(recall, precision):\n",
        "    \"\"\" Compute the average precision, given the recall and precision curves.\n",
        "    Code originally from https://github.com/rbgirshick/py-faster-rcnn.\n",
        "\n",
        "    # Arguments\n",
        "        recall:    The recall curve (list).\n",
        "        precision: The precision curve (list).\n",
        "    # Returns\n",
        "        The average precision as computed in py-faster-rcnn.\n",
        "    \"\"\"\n",
        "    # correct AP calculation\n",
        "    # first append sentinel values at the end\n",
        "    mrec = np.concatenate(([0.0], recall, [1.0]))\n",
        "    mpre = np.concatenate(([0.0], precision, [0.0]))\n",
        "\n",
        "    # compute the precision envelope\n",
        "    for i in range(mpre.size - 1, 0, -1):\n",
        "        mpre[i - 1] = np.maximum(mpre[i - 1], mpre[i])\n",
        "\n",
        "    # to calculate area under PR curve, look for points\n",
        "    # where X axis (recall) changes value\n",
        "    i = np.where(mrec[1:] != mrec[:-1])[0]\n",
        "\n",
        "    # and sum (\\Delta recall) * prec\n",
        "    ap = np.sum((mrec[i + 1] - mrec[i]) * mpre[i + 1])\n",
        "    return ap"
      ],
      "metadata": {
        "id": "8AcO58r4EWCg"
      },
      "execution_count": 70,
      "outputs": []
    },
    {
      "cell_type": "code",
      "source": [
        "decreasing_max_precision_05 = np.maximum.accumulate(precisions_05[::-1])[::-1]"
      ],
      "metadata": {
        "id": "Mv9lpej-Eadq"
      },
      "execution_count": 71,
      "outputs": []
    },
    {
      "cell_type": "code",
      "source": [
        "ap05 = compute_ap(recalls_05, decreasing_max_precision_05)"
      ],
      "metadata": {
        "id": "q7s9t4lEEg3V"
      },
      "execution_count": 72,
      "outputs": []
    },
    {
      "cell_type": "code",
      "source": [],
      "metadata": {
        "id": "JPG_AUZTXl97"
      },
      "execution_count": 72,
      "outputs": []
    },
    {
      "cell_type": "code",
      "source": [],
      "metadata": {
        "id": "H4NOL2e6EnS3"
      },
      "execution_count": 72,
      "outputs": []
    },
    {
      "cell_type": "code",
      "source": [
        "tps = []\n",
        "fps = []"
      ],
      "metadata": {
        "id": "kLJmipatEvmi"
      },
      "execution_count": 73,
      "outputs": []
    },
    {
      "cell_type": "code",
      "source": [
        "for index, row in df_sorted.iterrows():\n",
        "    #print(row['ground_truth'], row['predicted'])\n",
        "    if (row['IOU']>0.25):\n",
        "      tps.append(1)\n",
        "      fps.append(0)\n",
        "    else:\n",
        "      tps.append(0)\n",
        "      fps.append(1)"
      ],
      "metadata": {
        "id": "7FfHh9tFHfu1"
      },
      "execution_count": 74,
      "outputs": []
    },
    {
      "cell_type": "code",
      "source": [
        "df_sorted[\"tps_025\"] = tps\n",
        "df_sorted[\"fps_025\"] = fps"
      ],
      "metadata": {
        "id": "4jSVvtbPHmRY"
      },
      "execution_count": 75,
      "outputs": []
    },
    {
      "cell_type": "code",
      "source": [
        "cumulative_fps = df_sorted[\"fps_025\"].cumsum()\n",
        "cumulative_tps = df_sorted[\"tps_025\"].cumsum()"
      ],
      "metadata": {
        "id": "Q_RcnnAPHtWa"
      },
      "execution_count": 76,
      "outputs": []
    },
    {
      "cell_type": "code",
      "source": [
        "recalls_025 = np.divide(cumulative_tps, ground)\n",
        "precisions_025 = np.divide(cumulative_tps, (cumulative_fps + cumulative_tps))"
      ],
      "metadata": {
        "id": "yvqJrR_YH3NZ"
      },
      "execution_count": 77,
      "outputs": []
    },
    {
      "cell_type": "code",
      "source": [
        "decreasing_max_precision_025 = np.maximum.accumulate(precisions_025[::-1])[::-1]"
      ],
      "metadata": {
        "id": "g6oA4qVxH-Wj"
      },
      "execution_count": 78,
      "outputs": []
    },
    {
      "cell_type": "code",
      "source": [
        "ap025 = compute_ap(recalls_025, decreasing_max_precision_025)"
      ],
      "metadata": {
        "id": "WHwEFCKpIEzE"
      },
      "execution_count": 79,
      "outputs": []
    },
    {
      "cell_type": "code",
      "source": [
        "ap025"
      ],
      "metadata": {
        "id": "zOEr4WrULVFP",
        "outputId": "75a915b0-5f55-402e-e3ed-3b0639c37ad6",
        "colab": {
          "base_uri": "https://localhost:8080/"
        }
      },
      "execution_count": 80,
      "outputs": [
        {
          "output_type": "execute_result",
          "data": {
            "text/plain": [
              "0.6816418650793651"
            ]
          },
          "metadata": {},
          "execution_count": 80
        }
      ]
    },
    {
      "cell_type": "code",
      "source": [
        "tps = []\n",
        "fps = []"
      ],
      "metadata": {
        "id": "_gT1tHOyILNb"
      },
      "execution_count": 81,
      "outputs": []
    },
    {
      "cell_type": "code",
      "source": [
        "for index, row in df_sorted.iterrows():\n",
        "    #print(row['ground_truth'], row['predicted'])\n",
        "    if (row['IOU']>0.1):\n",
        "      tps.append(1)\n",
        "      fps.append(0)\n",
        "    else:\n",
        "      tps.append(0)\n",
        "      fps.append(1)"
      ],
      "metadata": {
        "id": "e9sqad71IOr9"
      },
      "execution_count": 82,
      "outputs": []
    },
    {
      "cell_type": "code",
      "source": [
        "df_sorted[\"tps_01\"] = tps\n",
        "df_sorted[\"fps_01\"] = fps"
      ],
      "metadata": {
        "id": "i1P8HurJISzx"
      },
      "execution_count": 83,
      "outputs": []
    },
    {
      "cell_type": "code",
      "source": [
        "cumulative_fps = df_sorted[\"fps_01\"].cumsum()\n",
        "cumulative_tps = df_sorted[\"tps_01\"].cumsum()"
      ],
      "metadata": {
        "id": "XgfZoTPPIY9S"
      },
      "execution_count": 84,
      "outputs": []
    },
    {
      "cell_type": "code",
      "source": [
        "recalls_01 = np.divide(cumulative_tps, ground)\n",
        "precisions_01 = np.divide(cumulative_tps, (cumulative_fps + cumulative_tps))"
      ],
      "metadata": {
        "id": "ea2h7N-3Jk_E"
      },
      "execution_count": 85,
      "outputs": []
    },
    {
      "cell_type": "code",
      "source": [
        "decreasing_max_precision_01 = np.maximum.accumulate(precisions_01[::-1])[::-1]"
      ],
      "metadata": {
        "id": "SDUa3XHxJrJG"
      },
      "execution_count": 86,
      "outputs": []
    },
    {
      "cell_type": "code",
      "source": [
        "ap01 = compute_ap(recalls_01, decreasing_max_precision_01)"
      ],
      "metadata": {
        "id": "EZmAQBv-JxGL"
      },
      "execution_count": 87,
      "outputs": []
    },
    {
      "cell_type": "code",
      "source": [
        "ap01"
      ],
      "metadata": {
        "id": "n7oy_CsvLc2v",
        "outputId": "706076ea-9b9c-4c37-f9a1-61c0f2234837",
        "colab": {
          "base_uri": "https://localhost:8080/"
        }
      },
      "execution_count": 88,
      "outputs": [
        {
          "output_type": "execute_result",
          "data": {
            "text/plain": [
              "0.7287996031746031"
            ]
          },
          "metadata": {},
          "execution_count": 88
        }
      ]
    },
    {
      "cell_type": "code",
      "source": [
        "# from matplotlib.pyplot import figure\n",
        "\n",
        "# figure(figsize=(12, 8))"
      ],
      "metadata": {
        "id": "-pIVEKVcKcRk"
      },
      "execution_count": 89,
      "outputs": []
    },
    {
      "cell_type": "code",
      "source": [],
      "metadata": {
        "id": "PMKm4XkUJ4NS"
      },
      "execution_count": 89,
      "outputs": []
    },
    {
      "cell_type": "code",
      "source": [
        "import matplotlib.pyplot as plt\n",
        "\n",
        "# Plotting the curves\n",
        "plt.plot(recalls_05, precisions_05, '-r', linestyle='--', label=f\"Curve for 0.5 IOU\")\n",
        "plt.step(recalls_05, decreasing_max_precision_05, '-r', label=f\"AP for 0.5 IOU: {round(ap05, 3)}\")\n",
        "plt.plot(recalls_025, precisions_025, '-g', linestyle='--', label=f\"Curve for 0.25 IOU\")\n",
        "plt.step(recalls_025, decreasing_max_precision_025, '-g', label=f\"AP for 0.25 IOU: {round(ap025, 3)}\")\n",
        "plt.plot(recalls_01, precisions_01, '-b', linestyle='--', label=f\"Curve for 0.1 IOU\")\n",
        "plt.step(recalls_01, decreasing_max_precision_01, '-b', label=f\"AP for 0.1 IOU: {round(ap01, 3)}\")\n",
        "\n",
        "plt.xlabel('Recall')\n",
        "plt.ylabel('Precision')\n",
        "plt.title('Precision-Recall Curve')\n",
        "\n",
        "plt.xlim(0, 1)\n",
        "plt.ylim(0, 1.05)\n",
        "plt.grid(True)\n",
        "\n",
        "# Placing legend outside the plot\n",
        "plt.legend(loc='upper left', bbox_to_anchor=(1, 1), fontsize='small')\n",
        "\n",
        "plt.show()"
      ],
      "metadata": {
        "id": "RDdN8Tc2U_Qm",
        "colab": {
          "base_uri": "https://localhost:8080/",
          "height": 601
        },
        "outputId": "e7fdc9aa-5d97-4a11-9fa8-bd6af5838d53"
      },
      "execution_count": 90,
      "outputs": [
        {
          "output_type": "stream",
          "name": "stderr",
          "text": [
            "<ipython-input-90-39ac81504583>:4: UserWarning: linestyle is redundantly defined by the 'linestyle' keyword argument and the fmt string \"-r\" (-> linestyle='-'). The keyword argument will take precedence.\n",
            "  plt.plot(recalls_05, precisions_05, '-r', linestyle='--', label=f\"Curve for 0.5 IOU\")\n",
            "<ipython-input-90-39ac81504583>:6: UserWarning: linestyle is redundantly defined by the 'linestyle' keyword argument and the fmt string \"-g\" (-> linestyle='-'). The keyword argument will take precedence.\n",
            "  plt.plot(recalls_025, precisions_025, '-g', linestyle='--', label=f\"Curve for 0.25 IOU\")\n",
            "<ipython-input-90-39ac81504583>:8: UserWarning: linestyle is redundantly defined by the 'linestyle' keyword argument and the fmt string \"-b\" (-> linestyle='-'). The keyword argument will take precedence.\n",
            "  plt.plot(recalls_01, precisions_01, '-b', linestyle='--', label=f\"Curve for 0.1 IOU\")\n"
          ]
        },
        {
          "output_type": "display_data",
          "data": {
            "text/plain": [
              "<Figure size 640x480 with 1 Axes>"
            ],
            "image/png": "[encoded data removed]"
          },
          "metadata": {}
        }
      ]
    },
    {
      "cell_type": "code",
      "source": [
        "import numpy as np\n",
        "\n",
        "# Step 1: Calculate F1 score for each image\n",
        "f1_scores_01 = [2 * (precisions_01 * recalls_01) / (precisions_01 + recalls_01) if (precisions_01 + recalls_01) != 0 else 0 for precisions_01, recalls_01 in zip(precisions_01, recalls_01)]\n",
        "\n",
        "# Step 2: Average F1 scores across all images\n",
        "overall_f1_score_01 = np.mean(f1_scores_01)\n",
        "\n",
        "print(\"Overall F1 Score for IOU 0.1:\", overall_f1_score_01)"
      ],
      "metadata": {
        "id": "XnDj172i8hNF",
        "outputId": "038f8a55-a1e9-4983-c3b9-9a42092e6eb6",
        "colab": {
          "base_uri": "https://localhost:8080/"
        }
      },
      "execution_count": 91,
      "outputs": [
        {
          "output_type": "stream",
          "name": "stdout",
          "text": [
            "Overall F1 Score for IOU 0.1: 0.5998852396504302\n"
          ]
        }
      ]
    },
    {
      "cell_type": "code",
      "source": [
        "# Step 1: Calculate F1 score for each image\n",
        "f1_scores_025 = [2 * (precisions_025 * recalls_025) / (precisions_025 + recalls_025) if (precisions_025 + recalls_025) != 0 else 0 for precisions_025, recalls_025 in zip(precisions_025, recalls_025)]\n",
        "\n",
        "# Step 2: Average F1 scores across all images\n",
        "overall_f1_score_025 = np.mean(f1_scores_025)\n",
        "\n",
        "print(\"Overall F1 Score for IOU 0.25:\", overall_f1_score_025)"
      ],
      "metadata": {
        "id": "keJpi76_8g7b",
        "outputId": "eff916c0-2b77-4847-b804-bb984f3cb741",
        "colab": {
          "base_uri": "https://localhost:8080/"
        }
      },
      "execution_count": 92,
      "outputs": [
        {
          "output_type": "stream",
          "name": "stdout",
          "text": [
            "Overall F1 Score for IOU 0.25: 0.5778029901232984\n"
          ]
        }
      ]
    },
    {
      "cell_type": "code",
      "source": [
        "# Step 1: Calculate F1 score for each image\n",
        "f1_scores_05 = [2 * (precisions_05 * recalls_05) / (precisions_05 + recalls_05) if (precisions_05 + recalls_05) != 0 else 0 for precisions_05, recalls_05 in zip(precisions_05, recalls_05)]\n",
        "\n",
        "# Step 2: Average F1 scores across all images\n",
        "overall_f1_score_05 = np.mean(f1_scores_05)\n",
        "\n",
        "print(\"Overall F1 Score for IOU 0.5:\", overall_f1_score_05)"
      ],
      "metadata": {
        "id": "8vz-Krdj8qxO",
        "outputId": "d3c0a1f6-f74e-42e5-8344-52a0eb9a59c3",
        "colab": {
          "base_uri": "https://localhost:8080/"
        }
      },
      "execution_count": 93,
      "outputs": [
        {
          "output_type": "stream",
          "name": "stdout",
          "text": [
            "Overall F1 Score for IOU 0.5: 0.5042913302139825\n"
          ]
        }
      ]
    },
    {
      "cell_type": "code",
      "source": [
        "import matplotlib.pyplot as plt\n",
        "plt.figure(figsize=(12, 8))\n",
        "# Plotting the curves\n",
        "plt.plot(recalls_05, precisions_05, '-r', label=f\"Precision for IOU>0.5\")\n",
        "plt.step(recalls_05, decreasing_max_precision_05, '-r',linestyle='--', label=f\"Interpolated precision for IOU>0.5: {round(ap05, 3)}\")\n",
        "plt.plot(recalls_025, precisions_025, '-g', label=f\"Precision for IOU>0.25\")\n",
        "plt.step(recalls_025, decreasing_max_precision_025,  '-g',linestyle='--', label=f\"Interpolated precision for IOU>0.25: {round(ap025, 3)}\")\n",
        "plt.plot(recalls_01, precisions_01, '-b',  label=f\"Precision for IOU>0.1\")\n",
        "plt.step(recalls_01, decreasing_max_precision_01, '-b', linestyle='--',label=f\"Interpolated precision for IOU>0.1: {round(ap01, 3)}\")\n",
        "\n",
        "plt.xlabel('Recall',fontsize = 12)\n",
        "plt.ylabel('Precision',fontsize = 12)\n",
        "plt.title('Precision-Recall Curve',fontsize = 12)\n",
        "\n",
        "plt.xlim(0, 1)\n",
        "plt.ylim(0, 1.05)\n",
        "plt.grid(True)\n",
        "\n",
        "# Placing legend outside the plot and increasing font size\n",
        "plt.legend(loc='upper left', bbox_to_anchor=(1, 1), fontsize='large')\n",
        "\n",
        "plt.show()"
      ],
      "metadata": {
        "colab": {
          "base_uri": "https://localhost:8080/",
          "height": 779
        },
        "id": "1qEnUv2KXn6J",
        "outputId": "73adfa88-07ef-4a68-970c-948630f2a711"
      },
      "execution_count": 94,
      "outputs": [
        {
          "output_type": "stream",
          "name": "stderr",
          "text": [
            "<ipython-input-94-a182c365dca4>:5: UserWarning: linestyle is redundantly defined by the 'linestyle' keyword argument and the fmt string \"-r\" (-> linestyle='-'). The keyword argument will take precedence.\n",
            "  plt.step(recalls_05, decreasing_max_precision_05, '-r',linestyle='--', label=f\"Interpolated precision for IOU>0.5: {round(ap05, 3)}\")\n",
            "<ipython-input-94-a182c365dca4>:7: UserWarning: linestyle is redundantly defined by the 'linestyle' keyword argument and the fmt string \"-g\" (-> linestyle='-'). The keyword argument will take precedence.\n",
            "  plt.step(recalls_025, decreasing_max_precision_025,  '-g',linestyle='--', label=f\"Interpolated precision for IOU>0.25: {round(ap025, 3)}\")\n",
            "<ipython-input-94-a182c365dca4>:9: UserWarning: linestyle is redundantly defined by the 'linestyle' keyword argument and the fmt string \"-b\" (-> linestyle='-'). The keyword argument will take precedence.\n",
            "  plt.step(recalls_01, decreasing_max_precision_01, '-b', linestyle='--',label=f\"Interpolated precision for IOU>0.1: {round(ap01, 3)}\")\n"
          ]
        },
        {
          "output_type": "display_data",
          "data": {
            "text/plain": [
              "<Figure size 1200x800 with 1 Axes>"
            ],
            "image/png": "[encoded data removed]"
          },
          "metadata": {}
        }
      ]
    },
    {
      "cell_type": "code",
      "source": [],
      "metadata": {
        "id": "5A2cH9f4K-zG"
      },
      "execution_count": 94,
      "outputs": []
    },
    {
      "cell_type": "code",
      "source": [
        "\n"
      ],
      "metadata": {
        "id": "-s4wz9d0Nsgs"
      },
      "execution_count": 94,
      "outputs": []
    },
    {
      "cell_type": "code",
      "source": [],
      "metadata": {
        "id": "dv6uvEmbO6L0"
      },
      "execution_count": 94,
      "outputs": []
    }
  ]
}